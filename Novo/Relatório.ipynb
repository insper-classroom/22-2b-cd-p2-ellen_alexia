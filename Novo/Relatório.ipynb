{
 "cells": [
  {
   "cell_type": "markdown",
   "id": "bf73d12f",
   "metadata": {},
   "source": [
    "<img src=\"imagens/viruss.png\" style=\"width:1200px;height:350px;\">"
   ]
  },
  {
   "cell_type": "markdown",
   "id": "7975a998",
   "metadata": {},
   "source": [
    "<div id=\"inicio\"></div>\n",
    "\n",
    "# Modelo Preditivo para pacientes entubados pela Covid "
   ]
  },
  {
   "cell_type": "markdown",
   "id": "8162fec3",
   "metadata": {},
   "source": [
    "## 2022.2 - INSPER\n",
    "### Ciência dos Dados\n",
    "\n",
    "Alunas:\n",
    "\n",
    "- Alexia Barbosa Pires\n",
    "\n",
    "- Ellen Coutinho Lião da Silva\n",
    "\n",
    "- Jéssica Lendaw Silva de Araújo"
   ]
  },
  {
   "cell_type": "markdown",
   "id": "a5e21929",
   "metadata": {},
   "source": [
    "## Sumário\n",
    "\n",
    "- [Contextualização](#contextualizacao)\n",
    "- [Tratamento da base de dados](#tratamento-dados)\n",
    "- [Análise Exploratória](#analise-exploratoria)\n",
    "- [Modelos Preditivos](#modelos-preditivos)\n",
    "    1. [Árvore de Decisão](#arvore-decisao)\n",
    "        - [Implementação](#implementacao-dt)\n",
    "\n",
    "- [Conclusão](#conclusao)\n",
    "- [Referências](#referencias)"
   ]
  },
  {
   "cell_type": "markdown",
   "id": "1c97377e",
   "metadata": {},
   "source": [
    "<div id=\"contextualizacao\"></div>\n",
    "\n",
    "______\n",
    "<h2> Contextualização </h2>"
   ]
  },
  {
   "cell_type": "markdown",
   "id": "dabf07ec",
   "metadata": {},
   "source": [
    "Durante a pandemia do vírus da COVID-19, a grande preocupação de muitas famílias com membros hospitalizados era referente à intubação. A razão pode ser justificada com dados. De acordo com a British Broadcasting Corporation, fonte internacional de notícias jornalísticas, [\"80% dos intubados por covid-19 morreram no Brasil em 2020\"](https://www.bbc.com/portuguese/brasil-56407803).\n",
    "\n",
    "O nosso projeto se envolve à essa questão. Aqui, serão construído modelos preditivos para responder à seguinte questão: `A partir de um conjunto de informações sobre o paciente, ele será ou não entubado?`. Portanto, a intubação é a nossa variável target, que depende de outras variáveis (denominadas features - serão explicitadas a frente).\n",
    "\n",
    "Para isso, será utilizado uma base de dados obtida na plataforma Kaggle ['COVID-19 Dataset'](https://www.kaggle.com/datasets/meirnizri/covid19-dataset), que contém dados fornecidos pelo governo mexicano com um grande número de informações anônimas relacionadas ao paciente, incluindo pré-condições."
   ]
  },
  {
   "cell_type": "markdown",
   "id": "66a81d77",
   "metadata": {},
   "source": [
    "______"
   ]
  },
  {
   "cell_type": "markdown",
   "id": "17837993",
   "metadata": {},
   "source": [
    "Importando bibliotecas necessárias:"
   ]
  },
  {
   "cell_type": "code",
   "execution_count": 1,
   "id": "e99922fc",
   "metadata": {},
   "outputs": [
    {
     "name": "stderr",
     "output_type": "stream",
     "text": [
      "C:\\Users\\Jessica\\anaconda3\\lib\\site-packages\\scipy\\__init__.py:146: UserWarning: A NumPy version >=1.16.5 and <1.23.0 is required for this version of SciPy (detected version 1.23.2\n",
      "  warnings.warn(f\"A NumPy version >={np_minversion} and <{np_maxversion}\"\n"
     ]
    }
   ],
   "source": [
    "# Manipulação de dados\n",
    "import pandas as pd\n",
    "import numpy as np\n",
    "\n",
    "# Visualização gráfica dos dados\n",
    "import seaborn as sns\n",
    "import matplotlib.pyplot as plt\n",
    "%matplotlib inline\n",
    "\n",
    "# Modelos preditivos\n",
    "from sklearn.tree import DecisionTreeClassifier\n",
    "from sklearn.ensemble import RandomForestClassifier\n",
    "from sklearn.linear_model import LogisticRegression\n",
    "\n",
    "# Módulos complementares para os modelos preditivos\n",
    "from sklearn.model_selection import train_test_split \n",
    "from sklearn.model_selection import cross_val_score\n",
    "from sklearn import metrics\n",
    "from sklearn.metrics import plot_confusion_matrix"
   ]
  },
  {
   "cell_type": "code",
   "execution_count": 2,
   "id": "78ccef16",
   "metadata": {},
   "outputs": [
    {
     "name": "stdout",
     "output_type": "stream",
     "text": [
      "Esperamos trabalhar no diretório\n",
      "C:\\Users\\Jessica\\Desktop\\Nova pasta\\projeto 2 - cdados\\22-2b-cd-p2-ellen_alexia\\Novo\n"
     ]
    }
   ],
   "source": [
    "# Para encontrar a base de dados\n",
    "import os\n",
    "print('Esperamos trabalhar no diretório')\n",
    "print(os.getcwd())"
   ]
  },
  {
   "cell_type": "code",
   "execution_count": 3,
   "id": "2c0a11e6",
   "metadata": {},
   "outputs": [],
   "source": [
    "# Lendo o dataframe\n",
    "data = pd.read_csv('data covid\\covid-data.csv')"
   ]
  },
  {
   "cell_type": "markdown",
   "id": "a43994df",
   "metadata": {},
   "source": [
    "<div id=\"tratamento-dados\"></div>\n",
    "\n",
    "______\n",
    "<h2> Tratamento da Base de Dados </h2>\n"
   ]
  },
  {
   "cell_type": "markdown",
   "id": "2f3c36d3",
   "metadata": {},
   "source": [
    "O conjunto de dados são de 1.048.576 pacientes, dos quais alguns são booleanos em que 1 significa \"sim\" e 2 significa \"não\", já valores como 97 e 99 são dados ausentes. Temos as seguintes variáveis explicativas (features):\n",
    "- `Sexo`: feminino ou masculino.\n",
    "\n",
    "- `Idade` do paciente.\n",
    "\n",
    "- `Classificação`: resultados do teste covid. Valores 1-3 significam que o paciente foi diagnosticado com covid em diferentes graus, 4 ou superior significa que o paciente não é portador de covid ou que o teste é inconclusivo.\n",
    "\n",
    "- `Tipo de paciente`: hospitalizado ou não hospitalizado.\n",
    "\n",
    "- `Pneumonia`: se o paciente já tem ou não inflamação dos sacos aéreos.\n",
    "\n",
    "- `gravidez`: se a paciente está grávida ou não.\n",
    "\n",
    "- `diabetes:` se o paciente tem diabetes ou não.\n",
    "\n",
    "- `copd`: Indica se o paciente tem doença pulmonar obstrutiva crônica ou não.\n",
    "\n",
    "- `asma`: se o paciente tem asma ou não.\n",
    "\n",
    "- `inmsupr`: se o paciente é imunossuprimido ou não.\n",
    "\n",
    "- `hipertensão`: se o paciente tem hipertensão ou não.\n",
    "\n",
    "- `cardiovascular`: se o paciente tem doença relacionada ao coração ou vasos sanguíneos.\n",
    "\n",
    "- `renal crônica`: se o paciente tem doença renal crônica ou não.\n",
    "\n",
    "- `outra doença`: se o paciente tem outra doença ou não.\n",
    "\n",
    "- `obesidade`: se o paciente é obeso ou não.\n",
    "\n",
    "- `tabaco`: se o paciente é usuário de tabaco.\n",
    "\n",
    "- `usmr`: Indica se o paciente tratou unidades médicas de primeiro, segundo ou terceiro nível.\n",
    "\n",
    "- `unidade médica`: tipo de instituição do Sistema Único de Saúde que prestou o atendimento.\n",
    "\n",
    "- `entubado`: se o paciente estava conectado ao ventilador.\n",
    "\n",
    "- `icu`: Indica se o paciente esteve internado em Unidade de Terapia Intensiva.\n",
    "\n",
    "- `morte`: indica se o paciente morreu ou se recuperou."
   ]
  },
  {
   "cell_type": "code",
   "execution_count": 4,
   "id": "ed8c4058",
   "metadata": {},
   "outputs": [
    {
     "data": {
      "text/html": [
       "<div>\n",
       "<style scoped>\n",
       "    .dataframe tbody tr th:only-of-type {\n",
       "        vertical-align: middle;\n",
       "    }\n",
       "\n",
       "    .dataframe tbody tr th {\n",
       "        vertical-align: top;\n",
       "    }\n",
       "\n",
       "    .dataframe thead th {\n",
       "        text-align: right;\n",
       "    }\n",
       "</style>\n",
       "<table border=\"1\" class=\"dataframe\">\n",
       "  <thead>\n",
       "    <tr style=\"text-align: right;\">\n",
       "      <th></th>\n",
       "      <th>USMER</th>\n",
       "      <th>MEDICAL_UNIT</th>\n",
       "      <th>SEX</th>\n",
       "      <th>PATIENT_TYPE</th>\n",
       "      <th>DATE_DIED</th>\n",
       "      <th>INTUBED</th>\n",
       "      <th>PNEUMONIA</th>\n",
       "      <th>AGE</th>\n",
       "      <th>PREGNANT</th>\n",
       "      <th>DIABETES</th>\n",
       "      <th>...</th>\n",
       "      <th>ASTHMA</th>\n",
       "      <th>INMSUPR</th>\n",
       "      <th>HIPERTENSION</th>\n",
       "      <th>OTHER_DISEASE</th>\n",
       "      <th>CARDIOVASCULAR</th>\n",
       "      <th>OBESITY</th>\n",
       "      <th>RENAL_CHRONIC</th>\n",
       "      <th>TOBACCO</th>\n",
       "      <th>CLASIFFICATION_FINAL</th>\n",
       "      <th>ICU</th>\n",
       "    </tr>\n",
       "  </thead>\n",
       "  <tbody>\n",
       "    <tr>\n",
       "      <th>0</th>\n",
       "      <td>2</td>\n",
       "      <td>1</td>\n",
       "      <td>1</td>\n",
       "      <td>1</td>\n",
       "      <td>03/05/2020</td>\n",
       "      <td>97</td>\n",
       "      <td>1</td>\n",
       "      <td>65</td>\n",
       "      <td>2</td>\n",
       "      <td>2</td>\n",
       "      <td>...</td>\n",
       "      <td>2</td>\n",
       "      <td>2</td>\n",
       "      <td>1</td>\n",
       "      <td>2</td>\n",
       "      <td>2</td>\n",
       "      <td>2</td>\n",
       "      <td>2</td>\n",
       "      <td>2</td>\n",
       "      <td>3</td>\n",
       "      <td>97</td>\n",
       "    </tr>\n",
       "    <tr>\n",
       "      <th>1</th>\n",
       "      <td>2</td>\n",
       "      <td>1</td>\n",
       "      <td>2</td>\n",
       "      <td>1</td>\n",
       "      <td>03/06/2020</td>\n",
       "      <td>97</td>\n",
       "      <td>1</td>\n",
       "      <td>72</td>\n",
       "      <td>97</td>\n",
       "      <td>2</td>\n",
       "      <td>...</td>\n",
       "      <td>2</td>\n",
       "      <td>2</td>\n",
       "      <td>1</td>\n",
       "      <td>2</td>\n",
       "      <td>2</td>\n",
       "      <td>1</td>\n",
       "      <td>1</td>\n",
       "      <td>2</td>\n",
       "      <td>5</td>\n",
       "      <td>97</td>\n",
       "    </tr>\n",
       "    <tr>\n",
       "      <th>2</th>\n",
       "      <td>2</td>\n",
       "      <td>1</td>\n",
       "      <td>2</td>\n",
       "      <td>2</td>\n",
       "      <td>09/06/2020</td>\n",
       "      <td>1</td>\n",
       "      <td>2</td>\n",
       "      <td>55</td>\n",
       "      <td>97</td>\n",
       "      <td>1</td>\n",
       "      <td>...</td>\n",
       "      <td>2</td>\n",
       "      <td>2</td>\n",
       "      <td>2</td>\n",
       "      <td>2</td>\n",
       "      <td>2</td>\n",
       "      <td>2</td>\n",
       "      <td>2</td>\n",
       "      <td>2</td>\n",
       "      <td>3</td>\n",
       "      <td>2</td>\n",
       "    </tr>\n",
       "    <tr>\n",
       "      <th>3</th>\n",
       "      <td>2</td>\n",
       "      <td>1</td>\n",
       "      <td>1</td>\n",
       "      <td>1</td>\n",
       "      <td>12/06/2020</td>\n",
       "      <td>97</td>\n",
       "      <td>2</td>\n",
       "      <td>53</td>\n",
       "      <td>2</td>\n",
       "      <td>2</td>\n",
       "      <td>...</td>\n",
       "      <td>2</td>\n",
       "      <td>2</td>\n",
       "      <td>2</td>\n",
       "      <td>2</td>\n",
       "      <td>2</td>\n",
       "      <td>2</td>\n",
       "      <td>2</td>\n",
       "      <td>2</td>\n",
       "      <td>7</td>\n",
       "      <td>97</td>\n",
       "    </tr>\n",
       "    <tr>\n",
       "      <th>4</th>\n",
       "      <td>2</td>\n",
       "      <td>1</td>\n",
       "      <td>2</td>\n",
       "      <td>1</td>\n",
       "      <td>21/06/2020</td>\n",
       "      <td>97</td>\n",
       "      <td>2</td>\n",
       "      <td>68</td>\n",
       "      <td>97</td>\n",
       "      <td>1</td>\n",
       "      <td>...</td>\n",
       "      <td>2</td>\n",
       "      <td>2</td>\n",
       "      <td>1</td>\n",
       "      <td>2</td>\n",
       "      <td>2</td>\n",
       "      <td>2</td>\n",
       "      <td>2</td>\n",
       "      <td>2</td>\n",
       "      <td>3</td>\n",
       "      <td>97</td>\n",
       "    </tr>\n",
       "  </tbody>\n",
       "</table>\n",
       "<p>5 rows × 21 columns</p>\n",
       "</div>"
      ],
      "text/plain": [
       "   USMER  MEDICAL_UNIT  SEX  PATIENT_TYPE   DATE_DIED  INTUBED  PNEUMONIA  \\\n",
       "0      2             1    1             1  03/05/2020       97          1   \n",
       "1      2             1    2             1  03/06/2020       97          1   \n",
       "2      2             1    2             2  09/06/2020        1          2   \n",
       "3      2             1    1             1  12/06/2020       97          2   \n",
       "4      2             1    2             1  21/06/2020       97          2   \n",
       "\n",
       "   AGE  PREGNANT  DIABETES  ...  ASTHMA  INMSUPR  HIPERTENSION  OTHER_DISEASE  \\\n",
       "0   65         2         2  ...       2        2             1              2   \n",
       "1   72        97         2  ...       2        2             1              2   \n",
       "2   55        97         1  ...       2        2             2              2   \n",
       "3   53         2         2  ...       2        2             2              2   \n",
       "4   68        97         1  ...       2        2             1              2   \n",
       "\n",
       "   CARDIOVASCULAR  OBESITY  RENAL_CHRONIC  TOBACCO  CLASIFFICATION_FINAL  ICU  \n",
       "0               2        2              2        2                     3   97  \n",
       "1               2        1              1        2                     5   97  \n",
       "2               2        2              2        2                     3    2  \n",
       "3               2        2              2        2                     7   97  \n",
       "4               2        2              2        2                     3   97  \n",
       "\n",
       "[5 rows x 21 columns]"
      ]
     },
     "execution_count": 4,
     "metadata": {},
     "output_type": "execute_result"
    }
   ],
   "source": [
    "# Visualizando o dataframe\n",
    "data.head(5)"
   ]
  },
  {
   "cell_type": "markdown",
   "id": "6759ae77",
   "metadata": {},
   "source": [
    "Filtraremos o dataframe para manter somente às colunas que são relevantes para o nosso objetivo. Sendo assim, vamos remover as colunas de data de morte (DATE_DIED), gravidez (PREGNANT), tipo da instituição (MEDICAL_UNIT), nível de tratamento médico da unidade (USMER) e as linhas com pacientes que apresentaram teste negativo ou inconclusivo para covid."
   ]
  },
  {
   "cell_type": "code",
   "execution_count": 5,
   "id": "e76baa6d",
   "metadata": {},
   "outputs": [],
   "source": [
    "dados = data"
   ]
  },
  {
   "cell_type": "code",
   "execution_count": 6,
   "id": "0d4688c5",
   "metadata": {},
   "outputs": [
    {
     "data": {
      "text/html": [
       "<div>\n",
       "<style scoped>\n",
       "    .dataframe tbody tr th:only-of-type {\n",
       "        vertical-align: middle;\n",
       "    }\n",
       "\n",
       "    .dataframe tbody tr th {\n",
       "        vertical-align: top;\n",
       "    }\n",
       "\n",
       "    .dataframe thead th {\n",
       "        text-align: right;\n",
       "    }\n",
       "</style>\n",
       "<table border=\"1\" class=\"dataframe\">\n",
       "  <thead>\n",
       "    <tr style=\"text-align: right;\">\n",
       "      <th></th>\n",
       "      <th>SEX</th>\n",
       "      <th>PATIENT_TYPE</th>\n",
       "      <th>INTUBED</th>\n",
       "      <th>PNEUMONIA</th>\n",
       "      <th>AGE</th>\n",
       "      <th>DIABETES</th>\n",
       "      <th>COPD</th>\n",
       "      <th>ASTHMA</th>\n",
       "      <th>INMSUPR</th>\n",
       "      <th>HIPERTENSION</th>\n",
       "      <th>OTHER_DISEASE</th>\n",
       "      <th>CARDIOVASCULAR</th>\n",
       "      <th>OBESITY</th>\n",
       "      <th>RENAL_CHRONIC</th>\n",
       "      <th>TOBACCO</th>\n",
       "      <th>CLASIFFICATION_FINAL</th>\n",
       "      <th>ICU</th>\n",
       "    </tr>\n",
       "  </thead>\n",
       "  <tbody>\n",
       "    <tr>\n",
       "      <th>1047934</th>\n",
       "      <td>1</td>\n",
       "      <td>1</td>\n",
       "      <td>97</td>\n",
       "      <td>2</td>\n",
       "      <td>55</td>\n",
       "      <td>1</td>\n",
       "      <td>2</td>\n",
       "      <td>2</td>\n",
       "      <td>2</td>\n",
       "      <td>2</td>\n",
       "      <td>2</td>\n",
       "      <td>2</td>\n",
       "      <td>2</td>\n",
       "      <td>2</td>\n",
       "      <td>2</td>\n",
       "      <td>3</td>\n",
       "      <td>97</td>\n",
       "    </tr>\n",
       "    <tr>\n",
       "      <th>1047935</th>\n",
       "      <td>2</td>\n",
       "      <td>1</td>\n",
       "      <td>97</td>\n",
       "      <td>2</td>\n",
       "      <td>70</td>\n",
       "      <td>2</td>\n",
       "      <td>2</td>\n",
       "      <td>2</td>\n",
       "      <td>2</td>\n",
       "      <td>1</td>\n",
       "      <td>2</td>\n",
       "      <td>2</td>\n",
       "      <td>2</td>\n",
       "      <td>2</td>\n",
       "      <td>2</td>\n",
       "      <td>3</td>\n",
       "      <td>97</td>\n",
       "    </tr>\n",
       "    <tr>\n",
       "      <th>1047936</th>\n",
       "      <td>2</td>\n",
       "      <td>1</td>\n",
       "      <td>97</td>\n",
       "      <td>2</td>\n",
       "      <td>32</td>\n",
       "      <td>2</td>\n",
       "      <td>2</td>\n",
       "      <td>2</td>\n",
       "      <td>2</td>\n",
       "      <td>2</td>\n",
       "      <td>2</td>\n",
       "      <td>2</td>\n",
       "      <td>2</td>\n",
       "      <td>2</td>\n",
       "      <td>2</td>\n",
       "      <td>3</td>\n",
       "      <td>97</td>\n",
       "    </tr>\n",
       "    <tr>\n",
       "      <th>1047937</th>\n",
       "      <td>1</td>\n",
       "      <td>1</td>\n",
       "      <td>97</td>\n",
       "      <td>2</td>\n",
       "      <td>30</td>\n",
       "      <td>2</td>\n",
       "      <td>2</td>\n",
       "      <td>2</td>\n",
       "      <td>2</td>\n",
       "      <td>2</td>\n",
       "      <td>2</td>\n",
       "      <td>2</td>\n",
       "      <td>2</td>\n",
       "      <td>2</td>\n",
       "      <td>2</td>\n",
       "      <td>3</td>\n",
       "      <td>97</td>\n",
       "    </tr>\n",
       "  </tbody>\n",
       "</table>\n",
       "</div>"
      ],
      "text/plain": [
       "         SEX  PATIENT_TYPE  INTUBED  PNEUMONIA  AGE  DIABETES  COPD  ASTHMA  \\\n",
       "1047934    1             1       97          2   55         1     2       2   \n",
       "1047935    2             1       97          2   70         2     2       2   \n",
       "1047936    2             1       97          2   32         2     2       2   \n",
       "1047937    1             1       97          2   30         2     2       2   \n",
       "\n",
       "         INMSUPR  HIPERTENSION  OTHER_DISEASE  CARDIOVASCULAR  OBESITY  \\\n",
       "1047934        2             2              2               2        2   \n",
       "1047935        2             1              2               2        2   \n",
       "1047936        2             2              2               2        2   \n",
       "1047937        2             2              2               2        2   \n",
       "\n",
       "         RENAL_CHRONIC  TOBACCO  CLASIFFICATION_FINAL  ICU  \n",
       "1047934              2        2                     3   97  \n",
       "1047935              2        2                     3   97  \n",
       "1047936              2        2                     3   97  \n",
       "1047937              2        2                     3   97  "
      ]
     },
     "execution_count": 6,
     "metadata": {},
     "output_type": "execute_result"
    }
   ],
   "source": [
    "dados.pop('DATE_DIED')\n",
    "dados.pop('PREGNANT')\n",
    "dados.pop('MEDICAL_UNIT')\n",
    "dados.pop('USMER')\n",
    "dados = dados.loc[dados.CLASIFFICATION_FINAL < 4,:] \n",
    "dados.tail(4)"
   ]
  },
  {
   "cell_type": "code",
   "execution_count": 7,
   "id": "2d207585",
   "metadata": {},
   "outputs": [],
   "source": [
    "dados = dados.loc[(dados['SEX']) < 90]\n",
    "dados = dados.loc[(dados['PATIENT_TYPE']) < 90]\n",
    "dados = dados.loc[(dados['INTUBED']) < 90]\n",
    "dados = dados.loc[(dados['PNEUMONIA']) < 90]\n",
    "dados = dados.loc[(dados['DIABETES']) < 90]\n",
    "dados = dados.loc[(dados['COPD']) < 90]\n",
    "dados = dados.loc[(dados['ASTHMA']) < 90]\n",
    "dados = dados.loc[(dados['INMSUPR']) < 90]\n",
    "dados = dados.loc[(dados['HIPERTENSION']) < 90]\n",
    "dados = dados.loc[(dados['OTHER_DISEASE']) < 90]\n",
    "dados = dados.loc[(dados['CARDIOVASCULAR']) < 90]\n",
    "dados = dados.loc[(dados['OBESITY']) < 90]\n",
    "dados = dados.loc[(dados['RENAL_CHRONIC']) < 90]\n",
    "dados = dados.loc[(dados['TOBACCO']) < 90]\n",
    "dados = dados.loc[(dados['ICU']) < 90]"
   ]
  },
  {
   "cell_type": "code",
   "execution_count": 8,
   "id": "6aebc576",
   "metadata": {},
   "outputs": [
    {
     "data": {
      "text/html": [
       "<div>\n",
       "<style scoped>\n",
       "    .dataframe tbody tr th:only-of-type {\n",
       "        vertical-align: middle;\n",
       "    }\n",
       "\n",
       "    .dataframe tbody tr th {\n",
       "        vertical-align: top;\n",
       "    }\n",
       "\n",
       "    .dataframe thead th {\n",
       "        text-align: right;\n",
       "    }\n",
       "</style>\n",
       "<table border=\"1\" class=\"dataframe\">\n",
       "  <thead>\n",
       "    <tr style=\"text-align: right;\">\n",
       "      <th></th>\n",
       "      <th>SEX</th>\n",
       "      <th>PATIENT_TYPE</th>\n",
       "      <th>INTUBED</th>\n",
       "      <th>PNEUMONIA</th>\n",
       "      <th>AGE</th>\n",
       "      <th>DIABETES</th>\n",
       "      <th>COPD</th>\n",
       "      <th>ASTHMA</th>\n",
       "      <th>INMSUPR</th>\n",
       "      <th>HIPERTENSION</th>\n",
       "      <th>OTHER_DISEASE</th>\n",
       "      <th>CARDIOVASCULAR</th>\n",
       "      <th>OBESITY</th>\n",
       "      <th>RENAL_CHRONIC</th>\n",
       "      <th>TOBACCO</th>\n",
       "      <th>CLASIFFICATION_FINAL</th>\n",
       "      <th>ICU</th>\n",
       "    </tr>\n",
       "  </thead>\n",
       "  <tbody>\n",
       "    <tr>\n",
       "      <th>count</th>\n",
       "      <td>108273.000000</td>\n",
       "      <td>108273.0</td>\n",
       "      <td>108273.000000</td>\n",
       "      <td>108273.000000</td>\n",
       "      <td>108273.000000</td>\n",
       "      <td>108273.000000</td>\n",
       "      <td>108273.000000</td>\n",
       "      <td>108273.000000</td>\n",
       "      <td>108273.000000</td>\n",
       "      <td>108273.00000</td>\n",
       "      <td>108273.000000</td>\n",
       "      <td>108273.000000</td>\n",
       "      <td>108273.000000</td>\n",
       "      <td>108273.000000</td>\n",
       "      <td>108273.000000</td>\n",
       "      <td>108273.000000</td>\n",
       "      <td>108273.000000</td>\n",
       "    </tr>\n",
       "    <tr>\n",
       "      <th>mean</th>\n",
       "      <td>1.617236</td>\n",
       "      <td>2.0</td>\n",
       "      <td>1.784757</td>\n",
       "      <td>1.335347</td>\n",
       "      <td>55.813601</td>\n",
       "      <td>1.685739</td>\n",
       "      <td>1.965125</td>\n",
       "      <td>1.977677</td>\n",
       "      <td>1.976254</td>\n",
       "      <td>1.64705</td>\n",
       "      <td>1.956536</td>\n",
       "      <td>1.957847</td>\n",
       "      <td>1.768317</td>\n",
       "      <td>1.951281</td>\n",
       "      <td>1.921984</td>\n",
       "      <td>2.946672</td>\n",
       "      <td>1.905637</td>\n",
       "    </tr>\n",
       "    <tr>\n",
       "      <th>std</th>\n",
       "      <td>0.486064</td>\n",
       "      <td>0.0</td>\n",
       "      <td>0.410993</td>\n",
       "      <td>0.472114</td>\n",
       "      <td>16.092892</td>\n",
       "      <td>0.464223</td>\n",
       "      <td>0.183464</td>\n",
       "      <td>0.147733</td>\n",
       "      <td>0.152256</td>\n",
       "      <td>0.47789</td>\n",
       "      <td>0.203901</td>\n",
       "      <td>0.200938</td>\n",
       "      <td>0.421909</td>\n",
       "      <td>0.215282</td>\n",
       "      <td>0.268198</td>\n",
       "      <td>0.297893</td>\n",
       "      <td>0.292335</td>\n",
       "    </tr>\n",
       "    <tr>\n",
       "      <th>min</th>\n",
       "      <td>1.000000</td>\n",
       "      <td>2.0</td>\n",
       "      <td>1.000000</td>\n",
       "      <td>1.000000</td>\n",
       "      <td>0.000000</td>\n",
       "      <td>1.000000</td>\n",
       "      <td>1.000000</td>\n",
       "      <td>1.000000</td>\n",
       "      <td>1.000000</td>\n",
       "      <td>1.00000</td>\n",
       "      <td>1.000000</td>\n",
       "      <td>1.000000</td>\n",
       "      <td>1.000000</td>\n",
       "      <td>1.000000</td>\n",
       "      <td>1.000000</td>\n",
       "      <td>1.000000</td>\n",
       "      <td>1.000000</td>\n",
       "    </tr>\n",
       "    <tr>\n",
       "      <th>25%</th>\n",
       "      <td>1.000000</td>\n",
       "      <td>2.0</td>\n",
       "      <td>2.000000</td>\n",
       "      <td>1.000000</td>\n",
       "      <td>46.000000</td>\n",
       "      <td>1.000000</td>\n",
       "      <td>2.000000</td>\n",
       "      <td>2.000000</td>\n",
       "      <td>2.000000</td>\n",
       "      <td>1.00000</td>\n",
       "      <td>2.000000</td>\n",
       "      <td>2.000000</td>\n",
       "      <td>2.000000</td>\n",
       "      <td>2.000000</td>\n",
       "      <td>2.000000</td>\n",
       "      <td>3.000000</td>\n",
       "      <td>2.000000</td>\n",
       "    </tr>\n",
       "    <tr>\n",
       "      <th>50%</th>\n",
       "      <td>2.000000</td>\n",
       "      <td>2.0</td>\n",
       "      <td>2.000000</td>\n",
       "      <td>1.000000</td>\n",
       "      <td>56.000000</td>\n",
       "      <td>2.000000</td>\n",
       "      <td>2.000000</td>\n",
       "      <td>2.000000</td>\n",
       "      <td>2.000000</td>\n",
       "      <td>2.00000</td>\n",
       "      <td>2.000000</td>\n",
       "      <td>2.000000</td>\n",
       "      <td>2.000000</td>\n",
       "      <td>2.000000</td>\n",
       "      <td>2.000000</td>\n",
       "      <td>3.000000</td>\n",
       "      <td>2.000000</td>\n",
       "    </tr>\n",
       "    <tr>\n",
       "      <th>75%</th>\n",
       "      <td>2.000000</td>\n",
       "      <td>2.0</td>\n",
       "      <td>2.000000</td>\n",
       "      <td>2.000000</td>\n",
       "      <td>67.000000</td>\n",
       "      <td>2.000000</td>\n",
       "      <td>2.000000</td>\n",
       "      <td>2.000000</td>\n",
       "      <td>2.000000</td>\n",
       "      <td>2.00000</td>\n",
       "      <td>2.000000</td>\n",
       "      <td>2.000000</td>\n",
       "      <td>2.000000</td>\n",
       "      <td>2.000000</td>\n",
       "      <td>2.000000</td>\n",
       "      <td>3.000000</td>\n",
       "      <td>2.000000</td>\n",
       "    </tr>\n",
       "    <tr>\n",
       "      <th>max</th>\n",
       "      <td>2.000000</td>\n",
       "      <td>2.0</td>\n",
       "      <td>2.000000</td>\n",
       "      <td>2.000000</td>\n",
       "      <td>105.000000</td>\n",
       "      <td>2.000000</td>\n",
       "      <td>2.000000</td>\n",
       "      <td>2.000000</td>\n",
       "      <td>2.000000</td>\n",
       "      <td>2.00000</td>\n",
       "      <td>2.000000</td>\n",
       "      <td>2.000000</td>\n",
       "      <td>2.000000</td>\n",
       "      <td>2.000000</td>\n",
       "      <td>2.000000</td>\n",
       "      <td>3.000000</td>\n",
       "      <td>2.000000</td>\n",
       "    </tr>\n",
       "  </tbody>\n",
       "</table>\n",
       "</div>"
      ],
      "text/plain": [
       "                 SEX  PATIENT_TYPE        INTUBED      PNEUMONIA  \\\n",
       "count  108273.000000      108273.0  108273.000000  108273.000000   \n",
       "mean        1.617236           2.0       1.784757       1.335347   \n",
       "std         0.486064           0.0       0.410993       0.472114   \n",
       "min         1.000000           2.0       1.000000       1.000000   \n",
       "25%         1.000000           2.0       2.000000       1.000000   \n",
       "50%         2.000000           2.0       2.000000       1.000000   \n",
       "75%         2.000000           2.0       2.000000       2.000000   \n",
       "max         2.000000           2.0       2.000000       2.000000   \n",
       "\n",
       "                 AGE       DIABETES           COPD         ASTHMA  \\\n",
       "count  108273.000000  108273.000000  108273.000000  108273.000000   \n",
       "mean       55.813601       1.685739       1.965125       1.977677   \n",
       "std        16.092892       0.464223       0.183464       0.147733   \n",
       "min         0.000000       1.000000       1.000000       1.000000   \n",
       "25%        46.000000       1.000000       2.000000       2.000000   \n",
       "50%        56.000000       2.000000       2.000000       2.000000   \n",
       "75%        67.000000       2.000000       2.000000       2.000000   \n",
       "max       105.000000       2.000000       2.000000       2.000000   \n",
       "\n",
       "             INMSUPR  HIPERTENSION  OTHER_DISEASE  CARDIOVASCULAR  \\\n",
       "count  108273.000000  108273.00000  108273.000000   108273.000000   \n",
       "mean        1.976254       1.64705       1.956536        1.957847   \n",
       "std         0.152256       0.47789       0.203901        0.200938   \n",
       "min         1.000000       1.00000       1.000000        1.000000   \n",
       "25%         2.000000       1.00000       2.000000        2.000000   \n",
       "50%         2.000000       2.00000       2.000000        2.000000   \n",
       "75%         2.000000       2.00000       2.000000        2.000000   \n",
       "max         2.000000       2.00000       2.000000        2.000000   \n",
       "\n",
       "             OBESITY  RENAL_CHRONIC        TOBACCO  CLASIFFICATION_FINAL  \\\n",
       "count  108273.000000  108273.000000  108273.000000         108273.000000   \n",
       "mean        1.768317       1.951281       1.921984              2.946672   \n",
       "std         0.421909       0.215282       0.268198              0.297893   \n",
       "min         1.000000       1.000000       1.000000              1.000000   \n",
       "25%         2.000000       2.000000       2.000000              3.000000   \n",
       "50%         2.000000       2.000000       2.000000              3.000000   \n",
       "75%         2.000000       2.000000       2.000000              3.000000   \n",
       "max         2.000000       2.000000       2.000000              3.000000   \n",
       "\n",
       "                 ICU  \n",
       "count  108273.000000  \n",
       "mean        1.905637  \n",
       "std         0.292335  \n",
       "min         1.000000  \n",
       "25%         2.000000  \n",
       "50%         2.000000  \n",
       "75%         2.000000  \n",
       "max         2.000000  "
      ]
     },
     "metadata": {},
     "output_type": "display_data"
    }
   ],
   "source": [
    "display(dados.describe())"
   ]
  },
  {
   "cell_type": "code",
   "execution_count": 9,
   "id": "1ea64f89",
   "metadata": {},
   "outputs": [
    {
     "data": {
      "text/plain": [
       "SEX                     0\n",
       "PATIENT_TYPE            0\n",
       "INTUBED                 0\n",
       "PNEUMONIA               0\n",
       "AGE                     0\n",
       "DIABETES                0\n",
       "COPD                    0\n",
       "ASTHMA                  0\n",
       "INMSUPR                 0\n",
       "HIPERTENSION            0\n",
       "OTHER_DISEASE           0\n",
       "CARDIOVASCULAR          0\n",
       "OBESITY                 0\n",
       "RENAL_CHRONIC           0\n",
       "TOBACCO                 0\n",
       "CLASIFFICATION_FINAL    0\n",
       "ICU                     0\n",
       "dtype: int64"
      ]
     },
     "execution_count": 9,
     "metadata": {},
     "output_type": "execute_result"
    }
   ],
   "source": [
    "dados.isnull().sum()"
   ]
  },
  {
   "cell_type": "code",
   "execution_count": 10,
   "id": "293e7327",
   "metadata": {},
   "outputs": [
    {
     "data": {
      "text/plain": [
       "(108273, 17)"
      ]
     },
     "execution_count": 10,
     "metadata": {},
     "output_type": "execute_result"
    }
   ],
   "source": [
    "dados.shape"
   ]
  },
  {
   "cell_type": "markdown",
   "id": "0220eec9",
   "metadata": {},
   "source": [
    "Vamos fazer algumas alterações para deixar a base de dados com maior facilidade de leitura."
   ]
  },
  {
   "cell_type": "code",
   "execution_count": 11,
   "id": "f4fd1669",
   "metadata": {},
   "outputs": [],
   "source": [
    "dados.columns =['Sexo', 'Hospitalizado', 'Entubado', 'Pneumonia', 'Idade', 'Diabético', 'Obstrução pulmonar crônica', 'Asmático', 'Imunosuprimido', 'Hipertenso', 'Cardíaco', 'Renal', 'Outras doenças', 'Obeso', 'Fumante', 'Covid', 'UTI']"
   ]
  },
  {
   "cell_type": "code",
   "execution_count": 12,
   "id": "fe2f2a84",
   "metadata": {
    "scrolled": true
   },
   "outputs": [
    {
     "data": {
      "text/html": [
       "<div>\n",
       "<style scoped>\n",
       "    .dataframe tbody tr th:only-of-type {\n",
       "        vertical-align: middle;\n",
       "    }\n",
       "\n",
       "    .dataframe tbody tr th {\n",
       "        vertical-align: top;\n",
       "    }\n",
       "\n",
       "    .dataframe thead th {\n",
       "        text-align: right;\n",
       "    }\n",
       "</style>\n",
       "<table border=\"1\" class=\"dataframe\">\n",
       "  <thead>\n",
       "    <tr style=\"text-align: right;\">\n",
       "      <th></th>\n",
       "      <th>Sexo</th>\n",
       "      <th>Hospitalizado</th>\n",
       "      <th>Entubado</th>\n",
       "      <th>Pneumonia</th>\n",
       "      <th>Idade</th>\n",
       "      <th>Diabético</th>\n",
       "      <th>Obstrução pulmonar crônica</th>\n",
       "      <th>Asmático</th>\n",
       "      <th>Imunosuprimido</th>\n",
       "      <th>Hipertenso</th>\n",
       "      <th>Cardíaco</th>\n",
       "      <th>Renal</th>\n",
       "      <th>Outras doenças</th>\n",
       "      <th>Obeso</th>\n",
       "      <th>Fumante</th>\n",
       "      <th>Covid</th>\n",
       "      <th>UTI</th>\n",
       "    </tr>\n",
       "  </thead>\n",
       "  <tbody>\n",
       "    <tr>\n",
       "      <th>2</th>\n",
       "      <td>2</td>\n",
       "      <td>2</td>\n",
       "      <td>1</td>\n",
       "      <td>2</td>\n",
       "      <td>55</td>\n",
       "      <td>1</td>\n",
       "      <td>2</td>\n",
       "      <td>2</td>\n",
       "      <td>2</td>\n",
       "      <td>2</td>\n",
       "      <td>2</td>\n",
       "      <td>2</td>\n",
       "      <td>2</td>\n",
       "      <td>2</td>\n",
       "      <td>2</td>\n",
       "      <td>3</td>\n",
       "      <td>2</td>\n",
       "    </tr>\n",
       "    <tr>\n",
       "      <th>5</th>\n",
       "      <td>1</td>\n",
       "      <td>2</td>\n",
       "      <td>2</td>\n",
       "      <td>1</td>\n",
       "      <td>40</td>\n",
       "      <td>2</td>\n",
       "      <td>2</td>\n",
       "      <td>2</td>\n",
       "      <td>2</td>\n",
       "      <td>2</td>\n",
       "      <td>2</td>\n",
       "      <td>2</td>\n",
       "      <td>2</td>\n",
       "      <td>2</td>\n",
       "      <td>2</td>\n",
       "      <td>3</td>\n",
       "      <td>2</td>\n",
       "    </tr>\n",
       "  </tbody>\n",
       "</table>\n",
       "</div>"
      ],
      "text/plain": [
       "   Sexo  Hospitalizado  Entubado  Pneumonia  Idade  Diabético  \\\n",
       "2     2              2         1          2     55          1   \n",
       "5     1              2         2          1     40          2   \n",
       "\n",
       "   Obstrução pulmonar crônica  Asmático  Imunosuprimido  Hipertenso  Cardíaco  \\\n",
       "2                           2         2               2           2         2   \n",
       "5                           2         2               2           2         2   \n",
       "\n",
       "   Renal  Outras doenças  Obeso  Fumante  Covid  UTI  \n",
       "2      2               2      2        2      3    2  \n",
       "5      2               2      2        2      3    2  "
      ]
     },
     "execution_count": 12,
     "metadata": {},
     "output_type": "execute_result"
    }
   ],
   "source": [
    "dados.head(2)"
   ]
  },
  {
   "cell_type": "markdown",
   "id": "3b383e57",
   "metadata": {},
   "source": [
    "Como a base de dados já está filtrada com pacientes apenas com teste positivo para Covid, essa coluna não é mais necessária."
   ]
  },
  {
   "cell_type": "code",
   "execution_count": 13,
   "id": "599b5449",
   "metadata": {},
   "outputs": [
    {
     "data": {
      "text/plain": [
       "2          3\n",
       "5          3\n",
       "8          3\n",
       "9          3\n",
       "11         3\n",
       "          ..\n",
       "1047913    3\n",
       "1047919    3\n",
       "1047928    3\n",
       "1047929    3\n",
       "1047933    3\n",
       "Name: Covid, Length: 108273, dtype: int64"
      ]
     },
     "execution_count": 13,
     "metadata": {},
     "output_type": "execute_result"
    }
   ],
   "source": [
    "dados.pop('Covid')"
   ]
  },
  {
   "cell_type": "markdown",
   "id": "f394d621",
   "metadata": {},
   "source": [
    "Continuando a legibilidade do dataframe, deve-se converter as variáveis categóricas."
   ]
  },
  {
   "cell_type": "code",
   "execution_count": 14,
   "id": "4877bacd",
   "metadata": {},
   "outputs": [],
   "source": [
    "# Converte colunas necessárias para categóricas\n",
    "dados['Sexo'] = dados['Sexo'].astype('category')\n",
    "dados['Hospitalizado'] = dados['Hospitalizado'].astype('category')\n",
    "dados['Entubado'] = dados['Entubado'].astype('category')\n",
    "dados['Pneumonia'] = dados['Pneumonia'].astype('category')\n",
    "dados['Diabético'] = dados['Diabético'].astype('category')\n",
    "dados['Obstrução pulmonar crônica'] = dados['Obstrução pulmonar crônica'].astype('category')\n",
    "dados['Asmático'] = dados['Asmático'].astype('category')\n",
    "dados['Imunosuprimido'] = dados['Imunosuprimido'].astype('category')\n",
    "dados['Hipertenso'] = dados['Hipertenso'].astype('category')\n",
    "dados['Cardíaco'] = dados['Cardíaco'].astype('category')\n",
    "dados['Renal'] = dados['Renal'].astype('category')\n",
    "dados['Outras doenças'] = dados['Outras doenças'].astype('category')\n",
    "dados['Obeso'] = dados['Obeso'].astype('category')\n",
    "dados['Fumante'] = dados['Fumante'].astype('category')\n",
    "dados['UTI'] = dados['UTI'].astype('category')"
   ]
  },
  {
   "cell_type": "code",
   "execution_count": 15,
   "id": "e6bbf165",
   "metadata": {},
   "outputs": [
    {
     "data": {
      "text/plain": [
       "count     108273\n",
       "unique         1\n",
       "top            2\n",
       "freq      108273\n",
       "Name: Hospitalizado, dtype: int64"
      ]
     },
     "execution_count": 15,
     "metadata": {},
     "output_type": "execute_result"
    }
   ],
   "source": [
    "dados['Hospitalizado'].describe()"
   ]
  },
  {
   "cell_type": "markdown",
   "id": "1a961c14",
   "metadata": {},
   "source": [
    "Como nenhum paciente foi hospitalizado, essa coluna não terá utilidade no modelo."
   ]
  },
  {
   "cell_type": "code",
   "execution_count": 16,
   "id": "1c2795ae",
   "metadata": {},
   "outputs": [
    {
     "data": {
      "text/plain": [
       "2          2\n",
       "5          2\n",
       "8          2\n",
       "9          2\n",
       "11         2\n",
       "          ..\n",
       "1047913    2\n",
       "1047919    2\n",
       "1047928    2\n",
       "1047929    2\n",
       "1047933    2\n",
       "Name: Hospitalizado, Length: 108273, dtype: category\n",
       "Categories (1, int64): [2]"
      ]
     },
     "execution_count": 16,
     "metadata": {},
     "output_type": "execute_result"
    }
   ],
   "source": [
    "dados.pop('Hospitalizado')"
   ]
  },
  {
   "cell_type": "code",
   "execution_count": 17,
   "id": "15826d75",
   "metadata": {},
   "outputs": [],
   "source": [
    "# Cria cópia do dataframe. Esta cópia será mantida para conservar os valores numéricos \n",
    "dados_numerico = dados.copy()"
   ]
  },
  {
   "cell_type": "code",
   "execution_count": 18,
   "id": "9887d4d7",
   "metadata": {
    "scrolled": true
   },
   "outputs": [
    {
     "data": {
      "text/html": [
       "<div>\n",
       "<style scoped>\n",
       "    .dataframe tbody tr th:only-of-type {\n",
       "        vertical-align: middle;\n",
       "    }\n",
       "\n",
       "    .dataframe tbody tr th {\n",
       "        vertical-align: top;\n",
       "    }\n",
       "\n",
       "    .dataframe thead th {\n",
       "        text-align: right;\n",
       "    }\n",
       "</style>\n",
       "<table border=\"1\" class=\"dataframe\">\n",
       "  <thead>\n",
       "    <tr style=\"text-align: right;\">\n",
       "      <th></th>\n",
       "      <th>Sexo</th>\n",
       "      <th>Entubado</th>\n",
       "      <th>Pneumonia</th>\n",
       "      <th>Idade</th>\n",
       "      <th>Diabético</th>\n",
       "      <th>Obstrução pulmonar crônica</th>\n",
       "      <th>Asmático</th>\n",
       "      <th>Imunosuprimido</th>\n",
       "      <th>Hipertenso</th>\n",
       "      <th>Cardíaco</th>\n",
       "      <th>Renal</th>\n",
       "      <th>Outras doenças</th>\n",
       "      <th>Obeso</th>\n",
       "      <th>Fumante</th>\n",
       "      <th>UTI</th>\n",
       "    </tr>\n",
       "  </thead>\n",
       "  <tbody>\n",
       "    <tr>\n",
       "      <th>2</th>\n",
       "      <td>2</td>\n",
       "      <td>1</td>\n",
       "      <td>2</td>\n",
       "      <td>55</td>\n",
       "      <td>1</td>\n",
       "      <td>2</td>\n",
       "      <td>2</td>\n",
       "      <td>2</td>\n",
       "      <td>2</td>\n",
       "      <td>2</td>\n",
       "      <td>2</td>\n",
       "      <td>2</td>\n",
       "      <td>2</td>\n",
       "      <td>2</td>\n",
       "      <td>2</td>\n",
       "    </tr>\n",
       "    <tr>\n",
       "      <th>5</th>\n",
       "      <td>1</td>\n",
       "      <td>2</td>\n",
       "      <td>1</td>\n",
       "      <td>40</td>\n",
       "      <td>2</td>\n",
       "      <td>2</td>\n",
       "      <td>2</td>\n",
       "      <td>2</td>\n",
       "      <td>2</td>\n",
       "      <td>2</td>\n",
       "      <td>2</td>\n",
       "      <td>2</td>\n",
       "      <td>2</td>\n",
       "      <td>2</td>\n",
       "      <td>2</td>\n",
       "    </tr>\n",
       "  </tbody>\n",
       "</table>\n",
       "</div>"
      ],
      "text/plain": [
       "  Sexo Entubado Pneumonia  Idade Diabético Obstrução pulmonar crônica  \\\n",
       "2    2        1         2     55         1                          2   \n",
       "5    1        2         1     40         2                          2   \n",
       "\n",
       "  Asmático Imunosuprimido Hipertenso Cardíaco Renal Outras doenças Obeso  \\\n",
       "2        2              2          2        2     2              2     2   \n",
       "5        2              2          2        2     2              2     2   \n",
       "\n",
       "  Fumante UTI  \n",
       "2       2   2  \n",
       "5       2   2  "
      ]
     },
     "execution_count": 18,
     "metadata": {},
     "output_type": "execute_result"
    }
   ],
   "source": [
    "dados.head(2)"
   ]
  },
  {
   "cell_type": "code",
   "execution_count": 19,
   "id": "66afb50b",
   "metadata": {},
   "outputs": [
    {
     "data": {
      "text/plain": [
       "count     108273\n",
       "unique         2\n",
       "top            2\n",
       "freq      104497\n",
       "Name: Obstrução pulmonar crônica, dtype: int64"
      ]
     },
     "execution_count": 19,
     "metadata": {},
     "output_type": "execute_result"
    }
   ],
   "source": [
    "dados['Obstrução pulmonar crônica'].describe()"
   ]
  },
  {
   "cell_type": "code",
   "execution_count": 20,
   "id": "7a6b093c",
   "metadata": {},
   "outputs": [],
   "source": [
    "# Atribuindo as categorias para cada variável categórica\n",
    "dados['Sexo'].cat.categories = ['Mulher', 'Homem']\n",
    "dados['Entubado'].cat.categories = ['Sim','Não']\n",
    "dados['Pneumonia'].cat.categories = ['Sim','Não']\n",
    "dados['Diabético'].cat.categories = ['Sim','Não']\n",
    "dados['Asmático'].cat.categories = ['Sim','Não']\n",
    "dados['Obstrução pulmonar crônica'].cat.categories = ['Sim','Não']\n",
    "dados['Imunosuprimido'].cat.categories = ['Sim','Não']\n",
    "dados['Hipertenso'].cat.categories = ['Sim','Não']\n",
    "dados['Cardíaco'].cat.categories = ['Sim','Não']\n",
    "dados['Renal'].cat.categories = ['Sim','Não']\n",
    "dados['Outras doenças'].cat.categories = ['Sim','Não']\n",
    "dados['Obeso'].cat.categories = ['Sim','Não']\n",
    "dados['Fumante'].cat.categories = ['Sim','Não']\n",
    "dados['UTI'].cat.categories = ['Sim','Não']"
   ]
  },
  {
   "cell_type": "code",
   "execution_count": 21,
   "id": "3e25309b",
   "metadata": {},
   "outputs": [
    {
     "data": {
      "text/html": [
       "<div>\n",
       "<style scoped>\n",
       "    .dataframe tbody tr th:only-of-type {\n",
       "        vertical-align: middle;\n",
       "    }\n",
       "\n",
       "    .dataframe tbody tr th {\n",
       "        vertical-align: top;\n",
       "    }\n",
       "\n",
       "    .dataframe thead th {\n",
       "        text-align: right;\n",
       "    }\n",
       "</style>\n",
       "<table border=\"1\" class=\"dataframe\">\n",
       "  <thead>\n",
       "    <tr style=\"text-align: right;\">\n",
       "      <th></th>\n",
       "      <th>Sexo</th>\n",
       "      <th>Entubado</th>\n",
       "      <th>Pneumonia</th>\n",
       "      <th>Idade</th>\n",
       "      <th>Diabético</th>\n",
       "      <th>Obstrução pulmonar crônica</th>\n",
       "      <th>Asmático</th>\n",
       "      <th>Imunosuprimido</th>\n",
       "      <th>Hipertenso</th>\n",
       "      <th>Cardíaco</th>\n",
       "      <th>Renal</th>\n",
       "      <th>Outras doenças</th>\n",
       "      <th>Obeso</th>\n",
       "      <th>Fumante</th>\n",
       "      <th>UTI</th>\n",
       "    </tr>\n",
       "  </thead>\n",
       "  <tbody>\n",
       "    <tr>\n",
       "      <th>2</th>\n",
       "      <td>Homem</td>\n",
       "      <td>Sim</td>\n",
       "      <td>Não</td>\n",
       "      <td>55</td>\n",
       "      <td>Sim</td>\n",
       "      <td>Não</td>\n",
       "      <td>Não</td>\n",
       "      <td>Não</td>\n",
       "      <td>Não</td>\n",
       "      <td>Não</td>\n",
       "      <td>Não</td>\n",
       "      <td>Não</td>\n",
       "      <td>Não</td>\n",
       "      <td>Não</td>\n",
       "      <td>Não</td>\n",
       "    </tr>\n",
       "    <tr>\n",
       "      <th>5</th>\n",
       "      <td>Mulher</td>\n",
       "      <td>Não</td>\n",
       "      <td>Sim</td>\n",
       "      <td>40</td>\n",
       "      <td>Não</td>\n",
       "      <td>Não</td>\n",
       "      <td>Não</td>\n",
       "      <td>Não</td>\n",
       "      <td>Não</td>\n",
       "      <td>Não</td>\n",
       "      <td>Não</td>\n",
       "      <td>Não</td>\n",
       "      <td>Não</td>\n",
       "      <td>Não</td>\n",
       "      <td>Não</td>\n",
       "    </tr>\n",
       "  </tbody>\n",
       "</table>\n",
       "</div>"
      ],
      "text/plain": [
       "     Sexo Entubado Pneumonia  Idade Diabético Obstrução pulmonar crônica  \\\n",
       "2   Homem      Sim       Não     55       Sim                        Não   \n",
       "5  Mulher      Não       Sim     40       Não                        Não   \n",
       "\n",
       "  Asmático Imunosuprimido Hipertenso Cardíaco Renal Outras doenças Obeso  \\\n",
       "2      Não            Não        Não      Não   Não            Não   Não   \n",
       "5      Não            Não        Não      Não   Não            Não   Não   \n",
       "\n",
       "  Fumante  UTI  \n",
       "2     Não  Não  \n",
       "5     Não  Não  "
      ]
     },
     "execution_count": 21,
     "metadata": {},
     "output_type": "execute_result"
    }
   ],
   "source": [
    "dados.head(2)"
   ]
  },
  {
   "cell_type": "markdown",
   "id": "108e1070",
   "metadata": {},
   "source": [
    "<div id=\"analise-exploratoria\"></div>\n",
    "\n",
    "___\n",
    "<h2 class=\"analise_exploratoria\"> Análise Exploratória </h2>\n",
    "\n",
    "A análise exploratória é importante para se ter noção de como se comporta cada variável do dataframe. Com esse objetivo, deve-se construir gráficos para extrair informações sobre a depedência de cada uma das variáveis e sua importância sobre a variáveis target. \n",
    "\n",
    "Aqui veremos dois tipos de variáveis:\n",
    "\n",
    "- `Variáveis quantitativas`: são aquelas cujo valor é um número (exemplos: idade, quantidade etc.)\n",
    "- `Variáveis qualitativas`: apresentam uma classificação ou categoria. No dataframe em questão são representadas por números, mas, nesse caso, cada número representa uma dessas categorias (exemplos: sim/não, masculo/feminino etc.)"
   ]
  },
  {
   "cell_type": "code",
   "execution_count": 22,
   "id": "a5e12f22",
   "metadata": {},
   "outputs": [],
   "source": [
    "idade_descricao = pd.DataFrame(dados.Idade).describe()"
   ]
  },
  {
   "cell_type": "code",
   "execution_count": 23,
   "id": "987984fc",
   "metadata": {},
   "outputs": [],
   "source": [
    "idade_descricao.index = ['Quantidade total', \n",
    "                         'Média', \n",
    "                         'Desvio Padrão', \n",
    "                         'Valor mínimo', \n",
    "                         'Quartil (25%)', \n",
    "                         'Quartil (50%)', \n",
    "                         'Quartil (75%)', \n",
    "                         'Valor máximo']"
   ]
  },
  {
   "cell_type": "code",
   "execution_count": 24,
   "id": "9c015045",
   "metadata": {},
   "outputs": [
    {
     "data": {
      "text/html": [
       "<div>\n",
       "<style scoped>\n",
       "    .dataframe tbody tr th:only-of-type {\n",
       "        vertical-align: middle;\n",
       "    }\n",
       "\n",
       "    .dataframe tbody tr th {\n",
       "        vertical-align: top;\n",
       "    }\n",
       "\n",
       "    .dataframe thead th {\n",
       "        text-align: right;\n",
       "    }\n",
       "</style>\n",
       "<table border=\"1\" class=\"dataframe\">\n",
       "  <thead>\n",
       "    <tr style=\"text-align: right;\">\n",
       "      <th></th>\n",
       "      <th>Idade</th>\n",
       "    </tr>\n",
       "  </thead>\n",
       "  <tbody>\n",
       "    <tr>\n",
       "      <th>Quantidade total</th>\n",
       "      <td>108273.000000</td>\n",
       "    </tr>\n",
       "    <tr>\n",
       "      <th>Média</th>\n",
       "      <td>55.813601</td>\n",
       "    </tr>\n",
       "    <tr>\n",
       "      <th>Desvio Padrão</th>\n",
       "      <td>16.092892</td>\n",
       "    </tr>\n",
       "    <tr>\n",
       "      <th>Valor mínimo</th>\n",
       "      <td>0.000000</td>\n",
       "    </tr>\n",
       "    <tr>\n",
       "      <th>Quartil (25%)</th>\n",
       "      <td>46.000000</td>\n",
       "    </tr>\n",
       "    <tr>\n",
       "      <th>Quartil (50%)</th>\n",
       "      <td>56.000000</td>\n",
       "    </tr>\n",
       "    <tr>\n",
       "      <th>Quartil (75%)</th>\n",
       "      <td>67.000000</td>\n",
       "    </tr>\n",
       "    <tr>\n",
       "      <th>Valor máximo</th>\n",
       "      <td>105.000000</td>\n",
       "    </tr>\n",
       "  </tbody>\n",
       "</table>\n",
       "</div>"
      ],
      "text/plain": [
       "                          Idade\n",
       "Quantidade total  108273.000000\n",
       "Média                 55.813601\n",
       "Desvio Padrão         16.092892\n",
       "Valor mínimo           0.000000\n",
       "Quartil (25%)         46.000000\n",
       "Quartil (50%)         56.000000\n",
       "Quartil (75%)         67.000000\n",
       "Valor máximo         105.000000"
      ]
     },
     "metadata": {},
     "output_type": "display_data"
    }
   ],
   "source": [
    "display(idade_descricao)"
   ]
  },
  {
   "cell_type": "markdown",
   "id": "93773170",
   "metadata": {},
   "source": [
    "A partir desses dados pode-se construir um histograma das idades da seguinte maneira:"
   ]
  },
  {
   "cell_type": "code",
   "execution_count": 25,
   "id": "4488f21b",
   "metadata": {},
   "outputs": [
    {
     "data": {
      "text/plain": [
       "(0.0, 105.0)"
      ]
     },
     "execution_count": 25,
     "metadata": {},
     "output_type": "execute_result"
    },
    {
     "data": {
      "image/png": "[encoded data removed]",
      "text/plain": [
       "<Figure size 720x576 with 1 Axes>"
      ]
     },
     "metadata": {
      "needs_background": "light"
     },
     "output_type": "display_data"
    }
   ],
   "source": [
    "plt.figure(figsize=(10,8))\n",
    "sns.histplot(dados['Idade'], stat='density', bins=15, color='m', alpha=0.7)\n",
    "plt.ylabel('Densidade', fontsize=14)\n",
    "plt.title('Distribuição de idade de pacientes com COVID-19', fontsize=14)\n",
    "plt.xlabel('Idade', fontsize=14)\n",
    "plt.xlim(0, 105)"
   ]
  },
  {
   "cell_type": "markdown",
   "id": "8e2afebf",
   "metadata": {},
   "source": [
    "## Plotagem das features em função da idade dos pacientes"
   ]
  },
  {
   "cell_type": "markdown",
   "id": "d4c4d635",
   "metadata": {},
   "source": [
    "Primeiro filtramos as colunas no dataframe para separar a varável que queremos analisar em função das outras"
   ]
  },
  {
   "cell_type": "code",
   "execution_count": 26,
   "id": "94b92df4",
   "metadata": {},
   "outputs": [
    {
     "data": {
      "text/plain": [
       "Index(['Sexo', 'Entubado', 'Pneumonia', 'Idade', 'Diabético',\n",
       "       'Obstrução pulmonar crônica', 'Asmático', 'Imunosuprimido',\n",
       "       'Hipertenso', 'Cardíaco', 'Renal', 'Outras doenças', 'Obeso', 'Fumante',\n",
       "       'UTI'],\n",
       "      dtype='object')"
      ]
     },
     "execution_count": 26,
     "metadata": {},
     "output_type": "execute_result"
    }
   ],
   "source": [
    "dados.columns"
   ]
  },
  {
   "cell_type": "markdown",
   "id": "825b922b",
   "metadata": {},
   "source": [
    "Em seguida, separamos as features que serão analisadas nos histogramas"
   ]
  },
  {
   "cell_type": "code",
   "execution_count": 27,
   "id": "ad3dd692",
   "metadata": {},
   "outputs": [],
   "source": [
    "my_features = ['Entubado', 'Pneumonia', 'Diabético',\n",
    "       'Obstrução pulmonar crônica', 'Asmático', 'Imunosuprimido',\n",
    "       'Hipertenso', 'Cardíaco', 'Renal', 'Outras doenças', 'Obeso', 'Fumante',\n",
    "       'UTI']\n",
    "       "
   ]
  },
  {
   "cell_type": "code",
   "execution_count": 28,
   "id": "dff4cf3b",
   "metadata": {},
   "outputs": [
    {
     "data": {
      "text/plain": [
       "[[1, 1, 1],\n",
       " [1, 2, 2],\n",
       " [1, 3, 3],\n",
       " [1, 4, 4],\n",
       " [2, 1, 5],\n",
       " [2, 2, 6],\n",
       " [2, 3, 7],\n",
       " [2, 4, 8],\n",
       " [3, 1, 9],\n",
       " [3, 2, 10],\n",
       " [3, 3, 11],\n",
       " [3, 4, 12],\n",
       " [4, 1, 13],\n",
       " [4, 2, 14],\n",
       " [4, 3, 15],\n",
       " [4, 4, 16]]"
      ]
     },
     "execution_count": 28,
     "metadata": {},
     "output_type": "execute_result"
    }
   ],
   "source": [
    "#Ajuste de posição na plotagem do histograma\n",
    "subs = []\n",
    "for i in range(1, 5):\n",
    "    for j in range(1, 5):\n",
    "        subs.append([i, j, j + (i-1)*4])\n",
    "subs"
   ]
  },
  {
   "cell_type": "code",
   "execution_count": 29,
   "id": "10ef08fa",
   "metadata": {},
   "outputs": [],
   "source": [
    "#filtro de acordo com a quantidade de gráficos que queremos colocar lado a lado\n",
    "subs= [[1, 1, 1],\n",
    " [1, 2, 2],\n",
    " [1, 3, 3],\n",
    " [1, 4, 4],\n",
    " [2, 1, 5],\n",
    " [2, 2, 6],\n",
    " [2, 3, 7],\n",
    " [2, 4, 8],\n",
    " [3, 1, 9],\n",
    " [3, 2, 10],\n",
    " [3, 3, 11],\n",
    " [3, 4, 12],\n",
    " [4, 1, 13]]"
   ]
  },
  {
   "cell_type": "code",
   "execution_count": 79,
   "id": "041aad96",
   "metadata": {},
   "outputs": [
    {
     "data": {
      "image/png": "[encoded data removed]",
      "text/plain": [
       "<Figure size 1080x1440 with 13 Axes>"
      ]
     },
     "metadata": {
      "needs_background": "light"
     },
     "output_type": "display_data"
    }
   ],
   "source": [
    "#Plotamos os histogramas com as features que gostaríamos de analisar\n",
    "faixa_idade = np.arange(0, 105, 5)\n",
    "\n",
    "plt.figure(figsize=(15,20))\n",
    "\n",
    "# Plota hitograma de idade em função da categoria \n",
    "k = 1\n",
    "for ft, sub in zip(my_features, subs):\n",
    "    i, j, n = sub\n",
    "    subb = str(4) + str(4) + str(k)\n",
    "    subb = int(subb)\n",
    "    k += 1\n",
    "    plt.subplot(7, 2, n)\n",
    "    sns.histplot(dados, x='Idade', hue=ft, hue_order=['Sim', 'Não'], multiple='layer',\n",
    "                 bins=faixa_idade, element='step', palette=['m', 'c'])\n",
    "    if j == 1:\n",
    "        plt.ylabel('Densidade')\n",
    "    plt.xlabel('Idade')\n",
    "    plt.title('Densidade da incidência de '+ft+ ' por idade')\n",
    "    plt.fontsize=12\n",
    "plt.tight_layout(pad=2.0)\n",
    "plt.show()"
   ]
  },
  {
   "cell_type": "markdown",
   "id": "f28e7451",
   "metadata": {},
   "source": [
    "Análise dos demais parâmetros:"
   ]
  },
  {
   "cell_type": "code",
   "execution_count": 31,
   "id": "ceea49dd",
   "metadata": {},
   "outputs": [
    {
     "data": {
      "text/plain": [
       "Homem     0.617236\n",
       "Mulher    0.382764\n",
       "Name: Sexo, dtype: float64"
      ]
     },
     "execution_count": 31,
     "metadata": {},
     "output_type": "execute_result"
    }
   ],
   "source": [
    "# Sexo\n",
    "sexo = dados['Sexo'].value_counts(True)\n",
    "sexo"
   ]
  },
  {
   "cell_type": "code",
   "execution_count": 32,
   "id": "e5877b8b",
   "metadata": {},
   "outputs": [
    {
     "data": {
      "image/png": "[encoded data removed]",
      "text/plain": [
       "<Figure size 1368x360 with 1 Axes>"
      ]
     },
     "metadata": {},
     "output_type": "display_data"
    }
   ],
   "source": [
    "plt.figure(figsize=(19,5))\n",
    "labels='Masculino', 'Feminino'\n",
    "explode1=(0,0.1)\n",
    "plt.pie(sexo, labels=labels, explode=explode1, colors=['c', 'm'], autopct='%1.1f%%', shadow=True,startangle=90)\n",
    "plt.title('Pacientes por sexo')\n",
    "plt.legend(loc=8, title = 'Sexo', title_fontsize=18, \n",
    "                       bbox_to_anchor=(0.5, -0.25, 0.5, 0.5),  fontsize=18)\n",
    "plt.axis('equal')\n",
    "plt.show()"
   ]
  },
  {
   "cell_type": "code",
   "execution_count": 36,
   "id": "e0910325",
   "metadata": {},
   "outputs": [
    {
     "data": {
      "text/plain": [
       "Index(['Sexo', 'Entubado', 'Pneumonia', 'Idade', 'Diabético',\n",
       "       'Obstrução pulmonar crônica', 'Asmático', 'Imunosuprimido',\n",
       "       'Hipertenso', 'Cardíaco', 'Renal', 'Outras doenças', 'Obeso', 'Fumante',\n",
       "       'UTI'],\n",
       "      dtype='object')"
      ]
     },
     "execution_count": 36,
     "metadata": {},
     "output_type": "execute_result"
    }
   ],
   "source": [
    "dados.columns"
   ]
  },
  {
   "cell_type": "code",
   "execution_count": 41,
   "id": "ee528ba5",
   "metadata": {},
   "outputs": [],
   "source": [
    "feat = ['Entubado', 'Pneumonia', 'Diabético',\n",
    "       'Obstrução pulmonar crônica', 'Asmático', 'Imunosuprimido',\n",
    "       'Hipertenso', 'Cardíaco', 'Renal', 'Outras doenças', 'Obeso', 'Fumante',\n",
    "       'UTI']"
   ]
  },
  {
   "cell_type": "code",
   "execution_count": 82,
   "id": "0d64083e",
   "metadata": {},
   "outputs": [
    {
     "data": {
      "image/png": "[encoded data removed]",
      "text/plain": [
       "<Figure size 1440x1080 with 13 Axes>"
      ]
     },
     "metadata": {},
     "output_type": "display_data"
    }
   ],
   "source": [
    "plt.figure(figsize=(20,15))\n",
    "\n",
    "k = 1\n",
    "for fts, sub in zip(feat, subs):\n",
    "    i, j, n = sub\n",
    "    subb = str(4) + str(4) + str(k)\n",
    "    subb = int(subb)\n",
    "    k += 1\n",
    "    plt.subplot(5, 4, n)\n",
    "   \n",
    "    variavel = dados[fts].value_counts()\n",
    "    labels='Não', 'Sim'\n",
    "    explode2=(0,0.3)\n",
    "    plt.pie(variavel, labels=labels, explode=explode2, colors=['b', 'r'], autopct='%1.1f%%', shadow=True,startangle=90)\n",
    "    plt.title(fts)\n",
    "    plt.legend(loc=10, title = fts, title_fontsize=10, bbox_to_anchor=(0.7, 0, 0.7, 1),  fontsize=18)\n",
    "    plt.axis('equal')\n",
    "plt.tight_layout(pad=2.0)\n",
    "plt.show()"
   ]
  },
  {
   "cell_type": "code",
   "execution_count": null,
   "id": "14d27ab2",
   "metadata": {},
   "outputs": [],
   "source": []
  },
  {
   "cell_type": "code",
   "execution_count": null,
   "id": "abf2937e",
   "metadata": {},
   "outputs": [],
   "source": []
  },
  {
   "cell_type": "code",
   "execution_count": null,
   "id": "7f29ae30",
   "metadata": {},
   "outputs": [],
   "source": []
  },
  {
   "cell_type": "markdown",
   "id": "ec85c5c8",
   "metadata": {},
   "source": [
    "<div id=\"arvore-decisao\"></div>\n",
    "\n",
    "## 1. Árvore de Decisão (Decision Tree Classifier)\n",
    "\n",
    "Trata-se de um algoritmo de aprendizado de máquina para previsões. O processo de elaboração de uma árvore de decisão é similar à organização do pensamento humano. Há nós que se relacionam hierarquicamente, sendo estes centrados em dois tipos:\n",
    "1. Nó-raiz (root node), um dos atributos da base de dados.\n",
    "2. Nós-folha (leaf nodes), que são os resultados finais, congruentes com a resposta.\n",
    "\n",
    "O encaixe de cada variável no seu devido nó é feito por programação. Assim, recorre-se a abordagem de entropia. Esse critério corresponde ao nível de uniformidade dos dados. Quanto menor a entropia, mais homogênea está a base de dados, sendo a recíproca verdadeira."
   ]
  },
  {
   "cell_type": "markdown",
   "id": "7840205b",
   "metadata": {},
   "source": [
    "<div id=\"implementacao-dt\"></div>\n",
    "\n",
    "### Implementação do modelo"
   ]
  },
  {
   "cell_type": "code",
   "execution_count": null,
   "id": "ad8a872b",
   "metadata": {},
   "outputs": [],
   "source": [
    "dados.head(2)"
   ]
  },
  {
   "cell_type": "code",
   "execution_count": null,
   "id": "65b3c641",
   "metadata": {},
   "outputs": [],
   "source": [
    "target = 'Entubado'\n",
    "\n",
    "# Criando series com a variável target\n",
    "dados_target = dados_numerico[target]\n",
    "\n",
    "# Removendo a target\n",
    "dados_numerico = dados_numerico.drop([target], axis=1)\n",
    "\n",
    "# Separando treino e teste\n",
    "dados_treino, dados_teste, target_treino, target_teste = train_test_split(dados_numerico, \n",
    "                                                                          dados_target, \n",
    "                                                                          test_size=0.2, \n",
    "                                                                          random_state=0)"
   ]
  },
  {
   "cell_type": "code",
   "execution_count": null,
   "id": "4917e8c3",
   "metadata": {},
   "outputs": [],
   "source": [
    "# Criando árvore de decisão\n",
    "arvore = DecisionTreeClassifier(criterion='entropy')\n",
    "\n",
    "# Treinando o modelo\n",
    "modelo_ad = arvore.fit(dados_treino, target_treino)\n",
    "\n",
    "# Calculando acurácia do modelo\n",
    "acuracia_ad = arvore.score(dados_teste, target_teste) * 100\n",
    "print(f'Precisão do modelo (Decision Tree): {acuracia_ad:.4f} %')"
   ]
  },
  {
   "cell_type": "code",
   "execution_count": null,
   "id": "5d44ad03",
   "metadata": {},
   "outputs": [],
   "source": [
    "# Profundidade da árvore gerada\n",
    "print(f'Profundidade da árvore: {modelo_ad.tree_.max_depth}')"
   ]
  },
  {
   "cell_type": "markdown",
   "id": "3db51ca0",
   "metadata": {},
   "source": [
    "<div id=\"matriz-dt\"></div>\n",
    "\n",
    "### Verificando resultado com Matriz de Confusão"
   ]
  },
  {
   "cell_type": "markdown",
   "id": "6ffed75c",
   "metadata": {},
   "source": [
    "As matrizes de confusão são úteis para analisar a performance do modelo utilizado. Dividem-se em quatro campos: (1) os verdadeiros positivos e (2) os verdadeiros negativos, que ocorrem quando a previsão acerta; e, por outro lado, há os falsos positivos (3) e os falsos negativos (4) - os últimos sendo previsões incorretas."
   ]
  },
  {
   "cell_type": "code",
   "execution_count": null,
   "id": "54f67824",
   "metadata": {},
   "outputs": [],
   "source": [
    "# Figura para plotagem do gráfico\n",
    "fig, ax = plt.subplots(figsize=(7, 6))\n",
    "\n",
    "# Matriz de confusão\n",
    "plot_confusion_matrix(modelo_ad, dados_teste, target_teste, \n",
    "                      normalize='true', display_labels=['Não', 'Sim'], \n",
    "                      cmap=plt.cm.Blues, ax=ax, values_format='.2%')\n",
    "plt.xlabel(\"Valor Previsto\", fontsize=14)\n",
    "plt.ylabel(\"Valor Verdadeiro\")\n",
    "plt.title(\"Matriz de confusão\\nNormalizada por categoria\")\n",
    "plt.grid(False)"
   ]
  },
  {
   "cell_type": "code",
   "execution_count": null,
   "id": "6cedc819",
   "metadata": {},
   "outputs": [],
   "source": [
    "# Figura para plotagem do gráfico\n",
    "fig, ax = plt.subplots(figsize=(7, 6))\n",
    "\n",
    "# Matriz de confusão\n",
    "plot_confusion_matrix(modelo_ad, dados_teste, target_teste, \n",
    "                      normalize='all', display_labels=['Não', 'Sim'], \n",
    "                      cmap=plt.cm.Blues, ax=ax, values_format='.2%')\n",
    "plt.xlabel(\"Valor Previsto\")\n",
    "plt.ylabel(\"Valor Verdadeiro\")\n",
    "plt.title(\"Matriz de confusão\\nNormalizada pelo total\")\n",
    "plt.grid(False)"
   ]
  },
  {
   "cell_type": "markdown",
   "id": "30e72eb7",
   "metadata": {},
   "source": [
    "Por meio da matriz de confusão, pode-se inferir que há maior quantidade de respostas positivas na base de dados, o que implica na melhor performance do modelo em casos afirmativos."
   ]
  },
  {
   "cell_type": "markdown",
   "id": "b6e3e97f",
   "metadata": {},
   "source": [
    "<div id=\"cross-dt\"></div>\n",
    "\n",
    "### Validação Cruzada (*Cross-Validation*)"
   ]
  },
  {
   "cell_type": "markdown",
   "id": "b9f344ea",
   "metadata": {},
   "source": [
    "Essa técnica consiste no treino  e teste do algoritmo pelo próprio dataframe. São feitas n combinações que cruzam, para cada vez, a taxa de acerto dessa combinação. No nosso modelo, usaremos 10 combinações."
   ]
  },
  {
   "cell_type": "code",
   "execution_count": null,
   "id": "04be7845",
   "metadata": {},
   "outputs": [],
   "source": [
    "# Calcula resultados\n",
    "resultados_ad = cross_val_score(modelo_ad, dados_numerico, dados_target, cv=10, scoring='accuracy')\n",
    "\n",
    "# Calcula média e desvio padrão (em porcentagem)\n",
    "media_ad = np.mean(resultados_ad) * 100\n",
    "desv_pad_ad = np.std(resultados_ad, ddof=1) * 100\n",
    "\n",
    "# Exibe resultados\n",
    "print('Cross Validation aplicado ao modelo de Árvore de Decisão: \\n')\n",
    "print(f'Média: {media_ad:.4f} %')\n",
    "print(f'Desvio Padrão: {desv_pad_ad:.4f} %')"
   ]
  },
  {
   "cell_type": "code",
   "execution_count": null,
   "id": "c6faf8e4",
   "metadata": {},
   "outputs": [],
   "source": [
    "#função que gera dados de treino e teste e arvores com outras profundidades\n",
    "def arvore(dados, dados_target):\n",
    "    # Separa dados de treino e teste\n",
    "    X_treino, X_teste, Y_treino, Y_teste = train_test_split(dados, \n",
    "                                                            dados_target, \n",
    "                                                            test_size=0.2, \n",
    "                                                            random_state=0)\n",
    "    # Mostra resultados de 2 a 27\n",
    "    for profundidade in range(2, 28):\n",
    "\n",
    "        # Árvore de decisão\n",
    "        arvore_d = DecisionTreeClassifier(criterion='entropy', random_state=0, max_depth=profundidade)\n",
    "        # Treina o modelo\n",
    "        modelo_d = arvore_d.fit(X_treino, Y_treino)\n",
    "        # Calcula acurácia do modelo\n",
    "        acuracia = arvore_d.score(X_teste, Y_teste) * 100\n",
    "\n",
    "        print(f'Profundidade (max_depth) = {profundidade:2.0f} | Acurácia: {acuracia:.2f} %')\n",
    "    "
   ]
  },
  {
   "cell_type": "code",
   "execution_count": null,
   "id": "226cc288",
   "metadata": {},
   "outputs": [],
   "source": [
    "# Mostra que limitar as árvores de decisão melhoram a acurácia\n",
    "arvore(dados_numerico, dados_target)"
   ]
  },
  {
   "cell_type": "markdown",
   "id": "2f39f7ec",
   "metadata": {},
   "source": [
    "<div id=\"regressao\"></div>\n",
    "\n",
    "-------------\n",
    "\n",
    "## 2. Regressão Logística (Logistic Regression)\n"
   ]
  },
  {
   "cell_type": "markdown",
   "id": "e6d1958d",
   "metadata": {},
   "source": [
    "Trata-se de um método estatístico que define uma equação para estimar o valor de uma variável com comportamento binário (Sim e não)."
   ]
  },
  {
   "cell_type": "markdown",
   "id": "c538e04e",
   "metadata": {},
   "source": [
    "<div id=\"implementacao-lr\"></div>\n",
    "\n",
    "### Implementação do modelo"
   ]
  },
  {
   "cell_type": "code",
   "execution_count": null,
   "id": "1e3a2b01",
   "metadata": {},
   "outputs": [],
   "source": [
    "# Separação de treino e teste\n",
    "dados_treino_rl, dados_teste_rl, target_treino_rl, target_teste_rl = train_test_split(dados_numerico, \n",
    "                                                                                  dados_target, \n",
    "                                                                                  test_size=0.2, \n",
    "                                                                                  random_state=0)\n",
    "# Cria e treina modelo\n",
    "modelo_rl = LogisticRegression(random_state=0, max_iter=1000).fit(dados_treino_rl, target_treino_rl)\n",
    "# max_iter define o número de iterações necessárias para o modelo\n",
    "\n",
    "# Teste do modelo\n",
    "acuracia_rl = modelo_rl.score(dados_teste_rl, target_teste_rl)*100\n",
    "print(f'Acurácia do modelo (Regressão Logística): {acuracia_rl:.4f} %')"
   ]
  },
  {
   "cell_type": "markdown",
   "id": "d1095f57",
   "metadata": {},
   "source": [
    "<div id=\"matriz-lr\"></div>\n",
    "\n",
    "### Matriz de Confusão"
   ]
  },
  {
   "cell_type": "code",
   "execution_count": null,
   "id": "5c9bcff9",
   "metadata": {},
   "outputs": [],
   "source": [
    "# Figura para plotagem do gráfico\n",
    "fig, ax = plt.subplots(figsize=(7, 6))\n",
    "\n",
    "# Cria e plota matriz de confusão\n",
    "plot_confusion_matrix(modelo_rl, dados_teste_rl, target_teste_rl, \n",
    "                      normalize='true', display_labels=['Não', 'Sim'], \n",
    "                      cmap=plt.cm.Reds, ax=ax, values_format='.2%')\n",
    "plt.xlabel(\"Valor Previsto\", fontsize=14)\n",
    "plt.ylabel(\"Valor Verdadeiro\")\n",
    "plt.title(\"Matriz de confusão\\nNormalizada por categoria\")\n",
    "plt.grid(False)"
   ]
  },
  {
   "cell_type": "code",
   "execution_count": null,
   "id": "f9f1b43c",
   "metadata": {},
   "outputs": [],
   "source": []
  },
  {
   "cell_type": "markdown",
   "id": "2fee2cba",
   "metadata": {},
   "source": [
    "<div id=\"conclusao\"></div>\n",
    "\n",
    "___\n",
    "# Conclusão"
   ]
  },
  {
   "cell_type": "markdown",
   "id": "edfec352",
   "metadata": {},
   "source": [
    "<div id=\"referencias\"></div>\n",
    "\n",
    "<h2> Referências </h2>\n",
    "\n",
    "https://stackabuse.com/random-forest-algorithm-with-python-and-scikit-learn/\n",
    "\n",
    "\n",
    "http://www.saedsayad.com/decision_tree.htm"
   ]
  }
 ],
 "metadata": {
  "kernelspec": {
   "display_name": "Python 3 (ipykernel)",
   "language": "python",
   "name": "python3"
  },
  "language_info": {
   "codemirror_mode": {
    "name": "ipython",
    "version": 3
   },
   "file_extension": ".py",
   "mimetype": "text/x-python",
   "name": "python",
   "nbconvert_exporter": "python",
   "pygments_lexer": "ipython3",
   "version": "3.9.7"
  },
  "vscode": {
   "interpreter": {
    "hash": "5955e272ebc41e156d8df5baeb3d309dc4c14ea51626adce44f62666dda62cf4"
   }
  }
 },
 "nbformat": 4,
 "nbformat_minor": 5
}
