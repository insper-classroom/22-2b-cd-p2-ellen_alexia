{
 "cells": [
  {
   "cell_type": "markdown",
   "id": "7d8f02ca",
   "metadata": {},
   "source": [
    "# Projeto 2 - Ciência dos Dados"
   ]
  },
  {
   "cell_type": "markdown",
   "id": "5391796b",
   "metadata": {},
   "source": [
    "Nome: Alexia Barbosa Pires\n",
    "\n",
    "Nome: Ellen Coutinho Lião da Silva"
   ]
  },
  {
   "cell_type": "markdown",
   "id": "55632ae5",
   "metadata": {},
   "source": [
    "___\n",
    "Carregando algumas bibliotecas:"
   ]
  },
  {
   "cell_type": "code",
   "execution_count": 39,
   "id": "5b1bb365",
   "metadata": {},
   "outputs": [],
   "source": [
    "import os\n",
    "import pathlib\n",
    "import pandas as pd"
   ]
  },
  {
   "cell_type": "code",
   "execution_count": 40,
   "id": "f4a03f4c",
   "metadata": {},
   "outputs": [
    {
     "name": "stdout",
     "output_type": "stream",
     "text": [
      "Esperamos trabalhar no diretório\n",
      "C:\\Users\\ellen\\Downloads\\cdados_p2\\22-2b-cd-p2-ellen_alexia\n"
     ]
    }
   ],
   "source": [
    "print('Esperamos trabalhar no diretório')\n",
    "print(os.getcwd())"
   ]
  },
  {
   "cell_type": "markdown",
   "id": "34fe2173",
   "metadata": {},
   "source": [
    "O projeto visa prever como se comportará, quantitativamente, a continuidade da educação primária para o sexo feminino e para o sexo masculino. \n",
    "Espaço para descrever cada variável que aparece no excel. \n",
    "Carregando a base de dados:"
   ]
  },
  {
   "cell_type": "markdown",
   "id": "de1a35f9",
   "metadata": {},
   "source": [
    "A base de dados é composta pelas seguintes targets:\n",
    "- Country Name: nome do país \n",
    "- Country Code: identificador do país\n",
    "- Anos de 1970 a 2021: razão entre a quantidade de novas matrículas na última classe do ensino primário com os alunos vigentes.\n",
    "- Region: continente onde o país está localizado\n",
    "- IncomeGroup: faixa de renda do país\n",
    "- SpecialNotes: detalhe específico do país que foi considerado relevante para a análise\n"
   ]
  },
  {
   "cell_type": "code",
   "execution_count": 41,
   "id": "89797f2d",
   "metadata": {},
   "outputs": [
    {
     "data": {
      "text/html": [
       "<div>\n",
       "<style scoped>\n",
       "    .dataframe tbody tr th:only-of-type {\n",
       "        vertical-align: middle;\n",
       "    }\n",
       "\n",
       "    .dataframe tbody tr th {\n",
       "        vertical-align: top;\n",
       "    }\n",
       "\n",
       "    .dataframe thead th {\n",
       "        text-align: right;\n",
       "    }\n",
       "</style>\n",
       "<table border=\"1\" class=\"dataframe\">\n",
       "  <thead>\n",
       "    <tr style=\"text-align: right;\">\n",
       "      <th></th>\n",
       "      <th>Country Name</th>\n",
       "      <th>Country Code</th>\n",
       "      <th>1970</th>\n",
       "      <th>1971</th>\n",
       "      <th>1972</th>\n",
       "      <th>1973</th>\n",
       "      <th>1974</th>\n",
       "      <th>1975</th>\n",
       "      <th>1976</th>\n",
       "      <th>1977</th>\n",
       "      <th>...</th>\n",
       "      <th>2012</th>\n",
       "      <th>2013</th>\n",
       "      <th>2014</th>\n",
       "      <th>2015</th>\n",
       "      <th>2016</th>\n",
       "      <th>2017</th>\n",
       "      <th>2018</th>\n",
       "      <th>2019</th>\n",
       "      <th>2020</th>\n",
       "      <th>2021</th>\n",
       "    </tr>\n",
       "  </thead>\n",
       "  <tbody>\n",
       "    <tr>\n",
       "      <th>0</th>\n",
       "      <td>Aruba</td>\n",
       "      <td>ABW</td>\n",
       "      <td>NaN</td>\n",
       "      <td>NaN</td>\n",
       "      <td>NaN</td>\n",
       "      <td>NaN</td>\n",
       "      <td>NaN</td>\n",
       "      <td>NaN</td>\n",
       "      <td>NaN</td>\n",
       "      <td>NaN</td>\n",
       "      <td>...</td>\n",
       "      <td>NaN</td>\n",
       "      <td>92.037788</td>\n",
       "      <td>100.81855</td>\n",
       "      <td>NaN</td>\n",
       "      <td>NaN</td>\n",
       "      <td>NaN</td>\n",
       "      <td>NaN</td>\n",
       "      <td>NaN</td>\n",
       "      <td>NaN</td>\n",
       "      <td>NaN</td>\n",
       "    </tr>\n",
       "    <tr>\n",
       "      <th>1</th>\n",
       "      <td>Africa Eastern and Southern</td>\n",
       "      <td>AFE</td>\n",
       "      <td>NaN</td>\n",
       "      <td>NaN</td>\n",
       "      <td>NaN</td>\n",
       "      <td>NaN</td>\n",
       "      <td>NaN</td>\n",
       "      <td>NaN</td>\n",
       "      <td>NaN</td>\n",
       "      <td>NaN</td>\n",
       "      <td>...</td>\n",
       "      <td>NaN</td>\n",
       "      <td>NaN</td>\n",
       "      <td>NaN</td>\n",
       "      <td>NaN</td>\n",
       "      <td>NaN</td>\n",
       "      <td>NaN</td>\n",
       "      <td>NaN</td>\n",
       "      <td>NaN</td>\n",
       "      <td>NaN</td>\n",
       "      <td>NaN</td>\n",
       "    </tr>\n",
       "  </tbody>\n",
       "</table>\n",
       "<p>2 rows × 54 columns</p>\n",
       "</div>"
      ],
      "text/plain": [
       "                  Country Name Country Code  1970  1971  1972  1973  1974  \\\n",
       "0                        Aruba          ABW   NaN   NaN   NaN   NaN   NaN   \n",
       "1  Africa Eastern and Southern          AFE   NaN   NaN   NaN   NaN   NaN   \n",
       "\n",
       "   1975  1976  1977  ...  2012       2013       2014  2015  2016  2017  2018  \\\n",
       "0   NaN   NaN   NaN  ...   NaN  92.037788  100.81855   NaN   NaN   NaN   NaN   \n",
       "1   NaN   NaN   NaN  ...   NaN        NaN        NaN   NaN   NaN   NaN   NaN   \n",
       "\n",
       "   2019  2020  2021  \n",
       "0   NaN   NaN   NaN  \n",
       "1   NaN   NaN   NaN  \n",
       "\n",
       "[2 rows x 54 columns]"
      ]
     },
     "execution_count": 41,
     "metadata": {},
     "output_type": "execute_result"
    }
   ],
   "source": [
    "homens = pd.read_excel('data\\homens.xls', sheet_name='Data')\n",
    "homens.head(2)"
   ]
  },
  {
   "cell_type": "code",
   "execution_count": 42,
   "id": "8edb635b",
   "metadata": {},
   "outputs": [
    {
     "data": {
      "text/html": [
       "<div>\n",
       "<style scoped>\n",
       "    .dataframe tbody tr th:only-of-type {\n",
       "        vertical-align: middle;\n",
       "    }\n",
       "\n",
       "    .dataframe tbody tr th {\n",
       "        vertical-align: top;\n",
       "    }\n",
       "\n",
       "    .dataframe thead th {\n",
       "        text-align: right;\n",
       "    }\n",
       "</style>\n",
       "<table border=\"1\" class=\"dataframe\">\n",
       "  <thead>\n",
       "    <tr style=\"text-align: right;\">\n",
       "      <th></th>\n",
       "      <th>Country Name</th>\n",
       "      <th>Country Code</th>\n",
       "      <th>1970</th>\n",
       "      <th>1971</th>\n",
       "      <th>1972</th>\n",
       "      <th>1973</th>\n",
       "      <th>1974</th>\n",
       "      <th>1975</th>\n",
       "      <th>1976</th>\n",
       "      <th>1977</th>\n",
       "      <th>...</th>\n",
       "      <th>2012</th>\n",
       "      <th>2013</th>\n",
       "      <th>2014</th>\n",
       "      <th>2015</th>\n",
       "      <th>2016</th>\n",
       "      <th>2017</th>\n",
       "      <th>2018</th>\n",
       "      <th>2019</th>\n",
       "      <th>2020</th>\n",
       "      <th>2021</th>\n",
       "    </tr>\n",
       "  </thead>\n",
       "  <tbody>\n",
       "    <tr>\n",
       "      <th>0</th>\n",
       "      <td>Aruba</td>\n",
       "      <td>ABW</td>\n",
       "      <td>NaN</td>\n",
       "      <td>NaN</td>\n",
       "      <td>NaN</td>\n",
       "      <td>NaN</td>\n",
       "      <td>NaN</td>\n",
       "      <td>NaN</td>\n",
       "      <td>NaN</td>\n",
       "      <td>NaN</td>\n",
       "      <td>...</td>\n",
       "      <td>NaN</td>\n",
       "      <td>101.255234</td>\n",
       "      <td>101.55587</td>\n",
       "      <td>NaN</td>\n",
       "      <td>NaN</td>\n",
       "      <td>NaN</td>\n",
       "      <td>NaN</td>\n",
       "      <td>NaN</td>\n",
       "      <td>NaN</td>\n",
       "      <td>NaN</td>\n",
       "    </tr>\n",
       "    <tr>\n",
       "      <th>1</th>\n",
       "      <td>Africa Eastern and Southern</td>\n",
       "      <td>AFE</td>\n",
       "      <td>NaN</td>\n",
       "      <td>NaN</td>\n",
       "      <td>NaN</td>\n",
       "      <td>NaN</td>\n",
       "      <td>NaN</td>\n",
       "      <td>NaN</td>\n",
       "      <td>NaN</td>\n",
       "      <td>NaN</td>\n",
       "      <td>...</td>\n",
       "      <td>NaN</td>\n",
       "      <td>NaN</td>\n",
       "      <td>NaN</td>\n",
       "      <td>NaN</td>\n",
       "      <td>NaN</td>\n",
       "      <td>NaN</td>\n",
       "      <td>NaN</td>\n",
       "      <td>NaN</td>\n",
       "      <td>NaN</td>\n",
       "      <td>NaN</td>\n",
       "    </tr>\n",
       "  </tbody>\n",
       "</table>\n",
       "<p>2 rows × 54 columns</p>\n",
       "</div>"
      ],
      "text/plain": [
       "                  Country Name Country Code  1970  1971  1972  1973  1974  \\\n",
       "0                        Aruba          ABW   NaN   NaN   NaN   NaN   NaN   \n",
       "1  Africa Eastern and Southern          AFE   NaN   NaN   NaN   NaN   NaN   \n",
       "\n",
       "   1975  1976  1977  ...  2012        2013       2014  2015  2016  2017  2018  \\\n",
       "0   NaN   NaN   NaN  ...   NaN  101.255234  101.55587   NaN   NaN   NaN   NaN   \n",
       "1   NaN   NaN   NaN  ...   NaN         NaN        NaN   NaN   NaN   NaN   NaN   \n",
       "\n",
       "   2019  2020  2021  \n",
       "0   NaN   NaN   NaN  \n",
       "1   NaN   NaN   NaN  \n",
       "\n",
       "[2 rows x 54 columns]"
      ]
     },
     "execution_count": 42,
     "metadata": {},
     "output_type": "execute_result"
    }
   ],
   "source": [
    "mulheres = pd.read_excel('data\\mulheres.xls', sheet_name='Data')\n",
    "mulheres.head(2)"
   ]
  },
  {
   "cell_type": "markdown",
   "id": "f518f431",
   "metadata": {},
   "source": [
    "No mesmo arquivo excel, consta diferentes planilhas. A seguir, é feito o tratamento para que as targets acima esclarecidas estejam condensadas no mesmo espaço, para fins de organização."
   ]
  },
  {
   "cell_type": "code",
   "execution_count": 48,
   "id": "5dd04369",
   "metadata": {},
   "outputs": [],
   "source": [
    "# Organização do dataframe com dados referentes ao público masculino\n",
    "mulheres_plus = pd.read_excel('data\\mulheres.xls', sheet_name='Metadata - Countries')\n",
    "mulheres['Region'] = mulheres_plus['Region']\n",
    "mulheres['IncomeGroup'] = mulheres_plus['IncomeGroup']\n",
    "mulheres['SpecialNotes'] = mulheres_plus['SpecialNotes']\n",
    "\n",
    "# Organização do dataframe com dados referentes ao público masculino\n",
    "homens_plus = pd.read_excel('data\\homens.xls', sheet_name='Metadata - Countries')\n",
    "homens['Region'] = homens_plus['Region']\n",
    "homens['IncomeGroup'] = homens_plus['IncomeGroup']\n",
    "homens['SpecialNotes'] = homens_plus['SpecialNotes']\n",
    "\n",
    "lista_ambos = [mulheres, homens] #Lista útil para quando um mesmo procedimento for válido para ambos os dataframes"
   ]
  },
  {
   "cell_type": "markdown",
   "id": "eead0709",
   "metadata": {},
   "source": [
    "O próximo passo é definir para o Python quem são as variáveis qualitativas (IncomeGroup - aula 2) e quem são as variáveis quantitativas"
   ]
  },
  {
   "cell_type": "code",
   "execution_count": null,
   "id": "9428d24b",
   "metadata": {},
   "outputs": [],
   "source": []
  }
 ],
 "metadata": {
  "kernelspec": {
   "display_name": "Python 3 (ipykernel)",
   "language": "python",
   "name": "python3"
  },
  "language_info": {
   "codemirror_mode": {
    "name": "ipython",
    "version": 3
   },
   "file_extension": ".py",
   "mimetype": "text/x-python",
   "name": "python",
   "nbconvert_exporter": "python",
   "pygments_lexer": "ipython3",
   "version": "3.9.7"
  }
 },
 "nbformat": 4,
 "nbformat_minor": 5
}
