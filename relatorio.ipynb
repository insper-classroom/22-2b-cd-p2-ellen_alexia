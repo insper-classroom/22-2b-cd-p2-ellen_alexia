{
 "cells": [
  {
   "cell_type": "markdown",
   "id": "7d8f02ca",
   "metadata": {},
   "source": [
    "# Projeto 2 - Ciência dos Dados"
   ]
  },
  {
   "cell_type": "markdown",
   "id": "5391796b",
   "metadata": {},
   "source": [
    "Nome: Alexia Barbosa Pires\n",
    "\n",
    "Nome: Ellen Coutinho Lião da Silva"
   ]
  },
  {
   "cell_type": "markdown",
   "id": "55632ae5",
   "metadata": {},
   "source": [
    "___\n",
    "Carregando algumas bibliotecas:"
   ]
  },
  {
   "cell_type": "code",
   "execution_count": 1,
   "id": "5b1bb365",
   "metadata": {},
   "outputs": [],
   "source": [
    "%matplotlib inline\n",
    "import os\n",
    "import pathlib\n",
    "import pandas as pd\n",
    "import numpy as np\n",
    "import matplotlib.pyplot as plt"
   ]
  },
  {
   "cell_type": "code",
   "execution_count": 2,
   "id": "f4a03f4c",
   "metadata": {},
   "outputs": [
    {
     "name": "stdout",
     "output_type": "stream",
     "text": [
      "Esperamos trabalhar no diretório\n",
      "C:\\Users\\ellen\\Downloads\\cdados_p2\\22-2b-cd-p2-ellen_alexia\n"
     ]
    }
   ],
   "source": [
    "print('Esperamos trabalhar no diretório')\n",
    "print(os.getcwd())"
   ]
  },
  {
   "cell_type": "markdown",
   "id": "34fe2173",
   "metadata": {},
   "source": [
    "O projeto visa prever como se comportará, quantitativamente, a continuidade da educação primária para o sexo feminino e para o sexo masculino. \n",
    "Espaço para descrever cada variável que aparece no excel. \n",
    "Carregando a base de dados:"
   ]
  },
  {
   "cell_type": "markdown",
   "id": "de1a35f9",
   "metadata": {},
   "source": [
    "A base de dados é composta pelas seguintes targets:\n",
    "- Country Name: nome do país \n",
    "- Country Code: identificador do país\n",
    "- Anos de 1970 a 2021: razão entre a quantidade de novas matrículas na última classe do ensino primário com os alunos vigentes.\n",
    "- Region: região onde o país está localizado\n",
    "- IncomeGroup: faixa de renda do país\n"
   ]
  },
  {
   "cell_type": "code",
   "execution_count": 3,
   "id": "89797f2d",
   "metadata": {},
   "outputs": [
    {
     "data": {
      "text/html": [
       "<div>\n",
       "<style scoped>\n",
       "    .dataframe tbody tr th:only-of-type {\n",
       "        vertical-align: middle;\n",
       "    }\n",
       "\n",
       "    .dataframe tbody tr th {\n",
       "        vertical-align: top;\n",
       "    }\n",
       "\n",
       "    .dataframe thead th {\n",
       "        text-align: right;\n",
       "    }\n",
       "</style>\n",
       "<table border=\"1\" class=\"dataframe\">\n",
       "  <thead>\n",
       "    <tr style=\"text-align: right;\">\n",
       "      <th></th>\n",
       "      <th>Country Name</th>\n",
       "      <th>Country Code</th>\n",
       "      <th>1970</th>\n",
       "      <th>1971</th>\n",
       "      <th>1972</th>\n",
       "      <th>1973</th>\n",
       "      <th>1974</th>\n",
       "      <th>1975</th>\n",
       "      <th>1976</th>\n",
       "      <th>1977</th>\n",
       "      <th>...</th>\n",
       "      <th>2012</th>\n",
       "      <th>2013</th>\n",
       "      <th>2014</th>\n",
       "      <th>2015</th>\n",
       "      <th>2016</th>\n",
       "      <th>2017</th>\n",
       "      <th>2018</th>\n",
       "      <th>2019</th>\n",
       "      <th>2020</th>\n",
       "      <th>2021</th>\n",
       "    </tr>\n",
       "  </thead>\n",
       "  <tbody>\n",
       "    <tr>\n",
       "      <th>0</th>\n",
       "      <td>Aruba</td>\n",
       "      <td>ABW</td>\n",
       "      <td>NaN</td>\n",
       "      <td>NaN</td>\n",
       "      <td>NaN</td>\n",
       "      <td>NaN</td>\n",
       "      <td>NaN</td>\n",
       "      <td>NaN</td>\n",
       "      <td>NaN</td>\n",
       "      <td>NaN</td>\n",
       "      <td>...</td>\n",
       "      <td>NaN</td>\n",
       "      <td>92.037788</td>\n",
       "      <td>100.81855</td>\n",
       "      <td>NaN</td>\n",
       "      <td>NaN</td>\n",
       "      <td>NaN</td>\n",
       "      <td>NaN</td>\n",
       "      <td>NaN</td>\n",
       "      <td>NaN</td>\n",
       "      <td>NaN</td>\n",
       "    </tr>\n",
       "    <tr>\n",
       "      <th>1</th>\n",
       "      <td>Africa Eastern and Southern</td>\n",
       "      <td>AFE</td>\n",
       "      <td>NaN</td>\n",
       "      <td>NaN</td>\n",
       "      <td>NaN</td>\n",
       "      <td>NaN</td>\n",
       "      <td>NaN</td>\n",
       "      <td>NaN</td>\n",
       "      <td>NaN</td>\n",
       "      <td>NaN</td>\n",
       "      <td>...</td>\n",
       "      <td>NaN</td>\n",
       "      <td>NaN</td>\n",
       "      <td>NaN</td>\n",
       "      <td>NaN</td>\n",
       "      <td>NaN</td>\n",
       "      <td>NaN</td>\n",
       "      <td>NaN</td>\n",
       "      <td>NaN</td>\n",
       "      <td>NaN</td>\n",
       "      <td>NaN</td>\n",
       "    </tr>\n",
       "  </tbody>\n",
       "</table>\n",
       "<p>2 rows × 54 columns</p>\n",
       "</div>"
      ],
      "text/plain": [
       "                  Country Name Country Code  1970  1971  1972  1973  1974  \\\n",
       "0                        Aruba          ABW   NaN   NaN   NaN   NaN   NaN   \n",
       "1  Africa Eastern and Southern          AFE   NaN   NaN   NaN   NaN   NaN   \n",
       "\n",
       "   1975  1976  1977  ...  2012       2013       2014  2015  2016  2017  2018  \\\n",
       "0   NaN   NaN   NaN  ...   NaN  92.037788  100.81855   NaN   NaN   NaN   NaN   \n",
       "1   NaN   NaN   NaN  ...   NaN        NaN        NaN   NaN   NaN   NaN   NaN   \n",
       "\n",
       "   2019  2020  2021  \n",
       "0   NaN   NaN   NaN  \n",
       "1   NaN   NaN   NaN  \n",
       "\n",
       "[2 rows x 54 columns]"
      ]
     },
     "execution_count": 3,
     "metadata": {},
     "output_type": "execute_result"
    }
   ],
   "source": [
    "homens = pd.read_excel('data\\homens.xls', sheet_name='Data')\n",
    "homens.head(2)"
   ]
  },
  {
   "cell_type": "code",
   "execution_count": 4,
   "id": "8edb635b",
   "metadata": {},
   "outputs": [
    {
     "data": {
      "text/html": [
       "<div>\n",
       "<style scoped>\n",
       "    .dataframe tbody tr th:only-of-type {\n",
       "        vertical-align: middle;\n",
       "    }\n",
       "\n",
       "    .dataframe tbody tr th {\n",
       "        vertical-align: top;\n",
       "    }\n",
       "\n",
       "    .dataframe thead th {\n",
       "        text-align: right;\n",
       "    }\n",
       "</style>\n",
       "<table border=\"1\" class=\"dataframe\">\n",
       "  <thead>\n",
       "    <tr style=\"text-align: right;\">\n",
       "      <th></th>\n",
       "      <th>Country Name</th>\n",
       "      <th>Country Code</th>\n",
       "      <th>1970</th>\n",
       "      <th>1971</th>\n",
       "      <th>1972</th>\n",
       "      <th>1973</th>\n",
       "      <th>1974</th>\n",
       "      <th>1975</th>\n",
       "      <th>1976</th>\n",
       "      <th>1977</th>\n",
       "      <th>...</th>\n",
       "      <th>2012</th>\n",
       "      <th>2013</th>\n",
       "      <th>2014</th>\n",
       "      <th>2015</th>\n",
       "      <th>2016</th>\n",
       "      <th>2017</th>\n",
       "      <th>2018</th>\n",
       "      <th>2019</th>\n",
       "      <th>2020</th>\n",
       "      <th>2021</th>\n",
       "    </tr>\n",
       "  </thead>\n",
       "  <tbody>\n",
       "    <tr>\n",
       "      <th>0</th>\n",
       "      <td>Aruba</td>\n",
       "      <td>ABW</td>\n",
       "      <td>NaN</td>\n",
       "      <td>NaN</td>\n",
       "      <td>NaN</td>\n",
       "      <td>NaN</td>\n",
       "      <td>NaN</td>\n",
       "      <td>NaN</td>\n",
       "      <td>NaN</td>\n",
       "      <td>NaN</td>\n",
       "      <td>...</td>\n",
       "      <td>NaN</td>\n",
       "      <td>101.255234</td>\n",
       "      <td>101.55587</td>\n",
       "      <td>NaN</td>\n",
       "      <td>NaN</td>\n",
       "      <td>NaN</td>\n",
       "      <td>NaN</td>\n",
       "      <td>NaN</td>\n",
       "      <td>NaN</td>\n",
       "      <td>NaN</td>\n",
       "    </tr>\n",
       "    <tr>\n",
       "      <th>1</th>\n",
       "      <td>Africa Eastern and Southern</td>\n",
       "      <td>AFE</td>\n",
       "      <td>NaN</td>\n",
       "      <td>NaN</td>\n",
       "      <td>NaN</td>\n",
       "      <td>NaN</td>\n",
       "      <td>NaN</td>\n",
       "      <td>NaN</td>\n",
       "      <td>NaN</td>\n",
       "      <td>NaN</td>\n",
       "      <td>...</td>\n",
       "      <td>NaN</td>\n",
       "      <td>NaN</td>\n",
       "      <td>NaN</td>\n",
       "      <td>NaN</td>\n",
       "      <td>NaN</td>\n",
       "      <td>NaN</td>\n",
       "      <td>NaN</td>\n",
       "      <td>NaN</td>\n",
       "      <td>NaN</td>\n",
       "      <td>NaN</td>\n",
       "    </tr>\n",
       "  </tbody>\n",
       "</table>\n",
       "<p>2 rows × 54 columns</p>\n",
       "</div>"
      ],
      "text/plain": [
       "                  Country Name Country Code  1970  1971  1972  1973  1974  \\\n",
       "0                        Aruba          ABW   NaN   NaN   NaN   NaN   NaN   \n",
       "1  Africa Eastern and Southern          AFE   NaN   NaN   NaN   NaN   NaN   \n",
       "\n",
       "   1975  1976  1977  ...  2012        2013       2014  2015  2016  2017  2018  \\\n",
       "0   NaN   NaN   NaN  ...   NaN  101.255234  101.55587   NaN   NaN   NaN   NaN   \n",
       "1   NaN   NaN   NaN  ...   NaN         NaN        NaN   NaN   NaN   NaN   NaN   \n",
       "\n",
       "   2019  2020  2021  \n",
       "0   NaN   NaN   NaN  \n",
       "1   NaN   NaN   NaN  \n",
       "\n",
       "[2 rows x 54 columns]"
      ]
     },
     "execution_count": 4,
     "metadata": {},
     "output_type": "execute_result"
    }
   ],
   "source": [
    "mulheres = pd.read_excel('data\\mulheres.xls', sheet_name='Data')\n",
    "mulheres.head(2)"
   ]
  },
  {
   "cell_type": "markdown",
   "id": "3b4dddbe",
   "metadata": {},
   "source": [
    "### Análise da qualidade dos dataframes"
   ]
  },
  {
   "cell_type": "markdown",
   "id": "f518f431",
   "metadata": {},
   "source": [
    "No mesmo arquivo excel, consta diferentes planilhas. A seguir, é feito o tratamento para que as targets acima esclarecidas estejam condensadas no mesmo espaço, para fins de organização."
   ]
  },
  {
   "cell_type": "code",
   "execution_count": 5,
   "id": "5dd04369",
   "metadata": {},
   "outputs": [
    {
     "data": {
      "text/html": [
       "<div>\n",
       "<style scoped>\n",
       "    .dataframe tbody tr th:only-of-type {\n",
       "        vertical-align: middle;\n",
       "    }\n",
       "\n",
       "    .dataframe tbody tr th {\n",
       "        vertical-align: top;\n",
       "    }\n",
       "\n",
       "    .dataframe thead th {\n",
       "        text-align: right;\n",
       "    }\n",
       "</style>\n",
       "<table border=\"1\" class=\"dataframe\">\n",
       "  <thead>\n",
       "    <tr style=\"text-align: right;\">\n",
       "      <th></th>\n",
       "      <th>Country Name</th>\n",
       "      <th>Country Code</th>\n",
       "      <th>Region</th>\n",
       "      <th>IncomeGroup</th>\n",
       "      <th>1970</th>\n",
       "      <th>1971</th>\n",
       "      <th>1972</th>\n",
       "      <th>1973</th>\n",
       "      <th>1974</th>\n",
       "      <th>1975</th>\n",
       "      <th>...</th>\n",
       "      <th>2012</th>\n",
       "      <th>2013</th>\n",
       "      <th>2014</th>\n",
       "      <th>2015</th>\n",
       "      <th>2016</th>\n",
       "      <th>2017</th>\n",
       "      <th>2018</th>\n",
       "      <th>2019</th>\n",
       "      <th>2020</th>\n",
       "      <th>2021</th>\n",
       "    </tr>\n",
       "  </thead>\n",
       "  <tbody>\n",
       "    <tr>\n",
       "      <th>0</th>\n",
       "      <td>Aruba</td>\n",
       "      <td>ABW</td>\n",
       "      <td>Latin America &amp; Caribbean</td>\n",
       "      <td>High income</td>\n",
       "      <td>0.0</td>\n",
       "      <td>0.0</td>\n",
       "      <td>0.0</td>\n",
       "      <td>0.0</td>\n",
       "      <td>0.00000</td>\n",
       "      <td>0.0</td>\n",
       "      <td>...</td>\n",
       "      <td>0.0</td>\n",
       "      <td>92.037788</td>\n",
       "      <td>100.81855</td>\n",
       "      <td>0.0</td>\n",
       "      <td>0.000000</td>\n",
       "      <td>0.000000</td>\n",
       "      <td>0.000000</td>\n",
       "      <td>0.000000</td>\n",
       "      <td>0.0</td>\n",
       "      <td>0.0</td>\n",
       "    </tr>\n",
       "    <tr>\n",
       "      <th>1</th>\n",
       "      <td>Africa Eastern and Southern</td>\n",
       "      <td>AFE</td>\n",
       "      <td>0</td>\n",
       "      <td>0</td>\n",
       "      <td>0.0</td>\n",
       "      <td>0.0</td>\n",
       "      <td>0.0</td>\n",
       "      <td>0.0</td>\n",
       "      <td>0.00000</td>\n",
       "      <td>0.0</td>\n",
       "      <td>...</td>\n",
       "      <td>0.0</td>\n",
       "      <td>0.000000</td>\n",
       "      <td>0.00000</td>\n",
       "      <td>0.0</td>\n",
       "      <td>0.000000</td>\n",
       "      <td>0.000000</td>\n",
       "      <td>0.000000</td>\n",
       "      <td>0.000000</td>\n",
       "      <td>0.0</td>\n",
       "      <td>0.0</td>\n",
       "    </tr>\n",
       "    <tr>\n",
       "      <th>2</th>\n",
       "      <td>Afghanistan</td>\n",
       "      <td>AFG</td>\n",
       "      <td>South Asia</td>\n",
       "      <td>Low income</td>\n",
       "      <td>0.0</td>\n",
       "      <td>0.0</td>\n",
       "      <td>0.0</td>\n",
       "      <td>0.0</td>\n",
       "      <td>28.54109</td>\n",
       "      <td>0.0</td>\n",
       "      <td>...</td>\n",
       "      <td>0.0</td>\n",
       "      <td>0.000000</td>\n",
       "      <td>0.00000</td>\n",
       "      <td>0.0</td>\n",
       "      <td>96.542091</td>\n",
       "      <td>101.294212</td>\n",
       "      <td>103.283257</td>\n",
       "      <td>102.117844</td>\n",
       "      <td>0.0</td>\n",
       "      <td>0.0</td>\n",
       "    </tr>\n",
       "    <tr>\n",
       "      <th>3</th>\n",
       "      <td>Africa Western and Central</td>\n",
       "      <td>AFW</td>\n",
       "      <td>0</td>\n",
       "      <td>0</td>\n",
       "      <td>0.0</td>\n",
       "      <td>0.0</td>\n",
       "      <td>0.0</td>\n",
       "      <td>0.0</td>\n",
       "      <td>0.00000</td>\n",
       "      <td>0.0</td>\n",
       "      <td>...</td>\n",
       "      <td>0.0</td>\n",
       "      <td>0.000000</td>\n",
       "      <td>0.00000</td>\n",
       "      <td>0.0</td>\n",
       "      <td>0.000000</td>\n",
       "      <td>0.000000</td>\n",
       "      <td>0.000000</td>\n",
       "      <td>0.000000</td>\n",
       "      <td>0.0</td>\n",
       "      <td>0.0</td>\n",
       "    </tr>\n",
       "    <tr>\n",
       "      <th>4</th>\n",
       "      <td>Angola</td>\n",
       "      <td>AGO</td>\n",
       "      <td>Sub-Saharan Africa</td>\n",
       "      <td>Lower middle income</td>\n",
       "      <td>0.0</td>\n",
       "      <td>0.0</td>\n",
       "      <td>0.0</td>\n",
       "      <td>0.0</td>\n",
       "      <td>0.00000</td>\n",
       "      <td>0.0</td>\n",
       "      <td>...</td>\n",
       "      <td>0.0</td>\n",
       "      <td>0.000000</td>\n",
       "      <td>0.00000</td>\n",
       "      <td>0.0</td>\n",
       "      <td>0.000000</td>\n",
       "      <td>0.000000</td>\n",
       "      <td>0.000000</td>\n",
       "      <td>0.000000</td>\n",
       "      <td>0.0</td>\n",
       "      <td>0.0</td>\n",
       "    </tr>\n",
       "  </tbody>\n",
       "</table>\n",
       "<p>5 rows × 56 columns</p>\n",
       "</div>"
      ],
      "text/plain": [
       "                  Country Name Country Code                     Region  \\\n",
       "0                        Aruba          ABW  Latin America & Caribbean   \n",
       "1  Africa Eastern and Southern          AFE                          0   \n",
       "2                  Afghanistan          AFG                 South Asia   \n",
       "3   Africa Western and Central          AFW                          0   \n",
       "4                       Angola          AGO         Sub-Saharan Africa   \n",
       "\n",
       "           IncomeGroup  1970  1971  1972  1973      1974  1975  ...  2012  \\\n",
       "0          High income   0.0   0.0   0.0   0.0   0.00000   0.0  ...   0.0   \n",
       "1                    0   0.0   0.0   0.0   0.0   0.00000   0.0  ...   0.0   \n",
       "2           Low income   0.0   0.0   0.0   0.0  28.54109   0.0  ...   0.0   \n",
       "3                    0   0.0   0.0   0.0   0.0   0.00000   0.0  ...   0.0   \n",
       "4  Lower middle income   0.0   0.0   0.0   0.0   0.00000   0.0  ...   0.0   \n",
       "\n",
       "        2013       2014  2015       2016        2017        2018        2019  \\\n",
       "0  92.037788  100.81855   0.0   0.000000    0.000000    0.000000    0.000000   \n",
       "1   0.000000    0.00000   0.0   0.000000    0.000000    0.000000    0.000000   \n",
       "2   0.000000    0.00000   0.0  96.542091  101.294212  103.283257  102.117844   \n",
       "3   0.000000    0.00000   0.0   0.000000    0.000000    0.000000    0.000000   \n",
       "4   0.000000    0.00000   0.0   0.000000    0.000000    0.000000    0.000000   \n",
       "\n",
       "   2020  2021  \n",
       "0   0.0   0.0  \n",
       "1   0.0   0.0  \n",
       "2   0.0   0.0  \n",
       "3   0.0   0.0  \n",
       "4   0.0   0.0  \n",
       "\n",
       "[5 rows x 56 columns]"
      ]
     },
     "execution_count": 5,
     "metadata": {},
     "output_type": "execute_result"
    }
   ],
   "source": [
    "# Organização do dataframe com dados referentes ao público feminino\n",
    "mulheres_plus = pd.read_excel('data\\mulheres.xls', sheet_name='Metadata - Countries')\n",
    "mulheres.insert(2, 'Region',mulheres_plus['Region'],True) # insert adiciona a nova coluna na posição 2\n",
    "mulheres.insert(3, 'IncomeGroup', mulheres_plus['IncomeGroup'], True)\n",
    "\n",
    "# Organização do dataframe com dados referentes ao público masculino\n",
    "homens_plus = pd.read_excel('data\\homens.xls', sheet_name='Metadata - Countries')\n",
    "homens.insert(2, 'Region', homens_plus['Region'], True)\n",
    "homens.insert(3, 'IncomeGroup', homens_plus['IncomeGroup'], True)\n",
    "\n",
    "# Substituição dos campos vazios da base de dados por 0\n",
    "mulheres = mulheres.fillna(value=0)\n",
    "homens = homens.fillna(value=0)\n",
    "\n",
    "homens.head()"
   ]
  },
  {
   "cell_type": "code",
   "execution_count": 6,
   "id": "738ec2a5",
   "metadata": {},
   "outputs": [],
   "source": [
    "# Remoção dos países em que não há dados\n",
    "mulheres = mulheres[mulheres['Region']!=0]\n",
    "mulheres = mulheres[mulheres['IncomeGroup']!=0]\n",
    "homens = homens[homens['Region']!=0]\n",
    "homens = homens[homens['IncomeGroup']!=0]"
   ]
  },
  {
   "cell_type": "markdown",
   "id": "a3a18803",
   "metadata": {},
   "source": [
    "Além disso, é necessário analisar se há vieses presentes na organização de cada dataframe. Por conta disso, é comprovada a igualdade na quantidade de regiões analisadas para ambos os gêneros e também a disposição das classes nesse contexto."
   ]
  },
  {
   "cell_type": "code",
   "execution_count": 7,
   "id": "f1002974",
   "metadata": {},
   "outputs": [
    {
     "data": {
      "text/plain": [
       "Europe & Central Asia         58\n",
       "Sub-Saharan Africa            48\n",
       "Latin America & Caribbean     41\n",
       "East Asia & Pacific           37\n",
       "Middle East & North Africa    21\n",
       "South Asia                     8\n",
       "North America                  3\n",
       "Name: Region, dtype: int64"
      ]
     },
     "execution_count": 7,
     "metadata": {},
     "output_type": "execute_result"
    }
   ],
   "source": [
    "mulheres['Region'].value_counts()"
   ]
  },
  {
   "cell_type": "code",
   "execution_count": 8,
   "id": "24fad188",
   "metadata": {},
   "outputs": [
    {
     "data": {
      "text/plain": [
       "Europe & Central Asia         58\n",
       "Sub-Saharan Africa            48\n",
       "Latin America & Caribbean     41\n",
       "East Asia & Pacific           37\n",
       "Middle East & North Africa    21\n",
       "South Asia                     8\n",
       "North America                  3\n",
       "Name: Region, dtype: int64"
      ]
     },
     "execution_count": 8,
     "metadata": {},
     "output_type": "execute_result"
    }
   ],
   "source": [
    "homens['Region'].value_counts()"
   ]
  },
  {
   "cell_type": "code",
   "execution_count": 9,
   "id": "f6130206",
   "metadata": {},
   "outputs": [
    {
     "data": {
      "text/plain": [
       "High income            80\n",
       "Lower middle income    54\n",
       "Upper middle income    54\n",
       "Low income             28\n",
       "Name: IncomeGroup, dtype: int64"
      ]
     },
     "execution_count": 9,
     "metadata": {},
     "output_type": "execute_result"
    }
   ],
   "source": [
    "mulheres['IncomeGroup'].value_counts()"
   ]
  },
  {
   "cell_type": "code",
   "execution_count": 10,
   "id": "f6f4f0e8",
   "metadata": {},
   "outputs": [
    {
     "data": {
      "text/plain": [
       "High income            80\n",
       "Lower middle income    54\n",
       "Upper middle income    54\n",
       "Low income             28\n",
       "Name: IncomeGroup, dtype: int64"
      ]
     },
     "execution_count": 10,
     "metadata": {},
     "output_type": "execute_result"
    }
   ],
   "source": [
    "homens['IncomeGroup'].value_counts()"
   ]
  },
  {
   "cell_type": "markdown",
   "id": "f80e7f44",
   "metadata": {},
   "source": [
    "### Início da análise exploratória"
   ]
  },
  {
   "cell_type": "markdown",
   "id": "eead0709",
   "metadata": {},
   "source": [
    "O próximo passo é definir para o Python quem são as variáveis qualitativas e quem são as variáveis quantitativas, pois essa diferenciação afeta nas relações posteriores. Além disso, em \"IncomeGroup\" há aspecto de hierarquia, então é conveniente apontar a ordem das faixas de renda na programação."
   ]
  },
  {
   "cell_type": "code",
   "execution_count": 11,
   "id": "9428d24b",
   "metadata": {},
   "outputs": [],
   "source": [
    "lista_ambos = [mulheres, homens] #Lista útil para quando um mesmo procedimento for válido para ambos os dataframes\n",
    "\n",
    "for df in lista_ambos:\n",
    "    df['Region'] = df['Region'].astype('category')\n",
    "    df['IncomeGroup'] = df['IncomeGroup'].astype('category')\n",
    "    df['IncomeGroup'].cat.categories = ['High income', 'Lower middle income', 'Upper middle income', 'Low income']\n",
    "    \n",
    "    # Ajuste da ordem das faixas de renda\n",
    "    df['IncomeGroup']=pd.Categorical(df.IncomeGroup, categories = ['High income', 'Upper middle income', 'Lower middle income',\n",
    "                                                                   'Low income'], ordered=True)"
   ]
  },
  {
   "cell_type": "code",
   "execution_count": 12,
   "id": "f7adc2d8",
   "metadata": {},
   "outputs": [
    {
     "name": "stdout",
     "output_type": "stream",
     "text": [
      "Hierarquia em IncomeGroup: True\n"
     ]
    }
   ],
   "source": [
    "print(f'Hierarquia em IncomeGroup: {mulheres.IncomeGroup.cat.ordered}')"
   ]
  },
  {
   "cell_type": "markdown",
   "id": "abfa330b",
   "metadata": {},
   "source": [
    "### Restrição regional da temática"
   ]
  },
  {
   "cell_type": "markdown",
   "id": "04f50bdb",
   "metadata": {},
   "source": [
    "A restrição por regiões é adotada para a compreensão de como se comporta graficamente a educação para cada sexo no decorrer do tempo. O objetivo dessa seção é unir, em um novo conjunto de dados, a relação temporal da educação para cada região considerando as faixas de renda."
   ]
  },
  {
   "cell_type": "code",
   "execution_count": 13,
   "id": "ffd2efb1",
   "metadata": {},
   "outputs": [],
   "source": [
    "regioes_mulheres = [] # Lista para a média da educação das regiões. Cada posição representa um ano\n",
    "regioes_homens = []   # Lista para a média da educação das regiões. Cada posição representa um ano\n",
    "anos = np.arange(1970,2021+1,1)   # Lista com todos os anos presentes no dataframe"
   ]
  },
  {
   "cell_type": "code",
   "execution_count": 14,
   "id": "d554d0ad",
   "metadata": {},
   "outputs": [
    {
     "data": {
      "text/plain": [
       "Index(['East Asia & Pacific', 'Europe & Central Asia',\n",
       "       'Latin America & Caribbean', 'Middle East & North Africa',\n",
       "       'North America', 'South Asia', 'Sub-Saharan Africa'],\n",
       "      dtype='object')"
      ]
     },
     "execution_count": 14,
     "metadata": {},
     "output_type": "execute_result"
    }
   ],
   "source": [
    "# Todas as regiões podem ser vistas através do comando. A ordem desse output será adotada nas listas a seguir.\n",
    "mulheres.Region.cat.categories"
   ]
  },
  {
   "cell_type": "code",
   "execution_count": 15,
   "id": "a67655d0",
   "metadata": {},
   "outputs": [
    {
     "data": {
      "text/plain": [
       "Index(['High income', 'Upper middle income', 'Lower middle income',\n",
       "       'Low income'],\n",
       "      dtype='object')"
      ]
     },
     "execution_count": 15,
     "metadata": {},
     "output_type": "execute_result"
    }
   ],
   "source": [
    "homens.IncomeGroup.cat.categories"
   ]
  },
  {
   "cell_type": "code",
   "execution_count": 16,
   "id": "8e72b11c",
   "metadata": {},
   "outputs": [],
   "source": [
    "# Adicionadas as regiões e níveis de renda em suas respectivas listas\n",
    "regioes = ['East Asia & Pacific', 'Europe & Central Asia', 'Latin America & Caribbean', 'Middle East & North Africa', \n",
    "           'North America', 'South Asia', 'Sub-Saharan Africa']\n",
    "renda = ['High income', 'Upper middle income', 'Lower middle income','Low income']"
   ]
  },
  {
   "cell_type": "code",
   "execution_count": 17,
   "id": "70d42f42",
   "metadata": {},
   "outputs": [],
   "source": [
    "lista_mulheres = []\n",
    "lista_homens = []\n",
    "    \n",
    "for area in regioes:\n",
    "    dicio_mulheres = {}\n",
    "    dicio_homens = {}\n",
    "    \n",
    "    for ano in anos:\n",
    "        media_mulheres = mulheres.loc[(mulheres['Region']==area),:][str(ano)].mean()\n",
    "        dicio_mulheres[ano] = media_mulheres\n",
    "        \n",
    "        media_homens = homens.loc[(homens['Region']==area),:][str(ano)].mean()\n",
    "        dicio_homens[ano] = media_homens\n",
    "\n",
    "    lista_mulheres.append(dicio_mulheres)\n",
    "    lista_homens.append(dicio_homens)\n",
    "\n",
    "df_mulheres = pd.DataFrame(lista_mulheres)\n",
    "df_homens = pd.DataFrame(lista_homens)\n",
    "\n",
    "new_lista_ambos = [df_mulheres, df_homens] # Assim como feito anteriormente, essa lista serve para otimização\n",
    "\n",
    "for df in new_lista_ambos:\n",
    "    df.insert(0,\"Region\", regioes, True)\n"
   ]
  },
  {
   "cell_type": "code",
   "execution_count": 18,
   "id": "ca84411b",
   "metadata": {},
   "outputs": [
    {
     "data": {
      "text/html": [
       "<div>\n",
       "<style scoped>\n",
       "    .dataframe tbody tr th:only-of-type {\n",
       "        vertical-align: middle;\n",
       "    }\n",
       "\n",
       "    .dataframe tbody tr th {\n",
       "        vertical-align: top;\n",
       "    }\n",
       "\n",
       "    .dataframe thead th {\n",
       "        text-align: right;\n",
       "    }\n",
       "</style>\n",
       "<table border=\"1\" class=\"dataframe\">\n",
       "  <thead>\n",
       "    <tr style=\"text-align: right;\">\n",
       "      <th></th>\n",
       "      <th>Region</th>\n",
       "      <th>High income</th>\n",
       "      <th>Upper middle income</th>\n",
       "      <th>Lower middle income</th>\n",
       "      <th>Low income</th>\n",
       "      <th>1970</th>\n",
       "      <th>1971</th>\n",
       "      <th>1972</th>\n",
       "      <th>1973</th>\n",
       "      <th>1974</th>\n",
       "      <th>...</th>\n",
       "      <th>2012</th>\n",
       "      <th>2013</th>\n",
       "      <th>2014</th>\n",
       "      <th>2015</th>\n",
       "      <th>2016</th>\n",
       "      <th>2017</th>\n",
       "      <th>2018</th>\n",
       "      <th>2019</th>\n",
       "      <th>2020</th>\n",
       "      <th>2021</th>\n",
       "    </tr>\n",
       "  </thead>\n",
       "  <tbody>\n",
       "    <tr>\n",
       "      <th>0</th>\n",
       "      <td>East Asia &amp; Pacific</td>\n",
       "      <td>13</td>\n",
       "      <td>14</td>\n",
       "      <td>1</td>\n",
       "      <td>9</td>\n",
       "      <td>8.203736</td>\n",
       "      <td>11.297164</td>\n",
       "      <td>18.680054</td>\n",
       "      <td>16.662033</td>\n",
       "      <td>17.530675</td>\n",
       "      <td>...</td>\n",
       "      <td>61.921667</td>\n",
       "      <td>64.750360</td>\n",
       "      <td>68.270756</td>\n",
       "      <td>58.357257</td>\n",
       "      <td>64.494314</td>\n",
       "      <td>60.348564</td>\n",
       "      <td>63.279995</td>\n",
       "      <td>68.576365</td>\n",
       "      <td>38.519324</td>\n",
       "      <td>0.0</td>\n",
       "    </tr>\n",
       "    <tr>\n",
       "      <th>1</th>\n",
       "      <td>Europe &amp; Central Asia</td>\n",
       "      <td>38</td>\n",
       "      <td>4</td>\n",
       "      <td>0</td>\n",
       "      <td>16</td>\n",
       "      <td>2.497487</td>\n",
       "      <td>17.053915</td>\n",
       "      <td>18.992525</td>\n",
       "      <td>19.457704</td>\n",
       "      <td>16.015816</td>\n",
       "      <td>...</td>\n",
       "      <td>57.472287</td>\n",
       "      <td>55.248647</td>\n",
       "      <td>61.937363</td>\n",
       "      <td>62.663581</td>\n",
       "      <td>65.485352</td>\n",
       "      <td>63.846852</td>\n",
       "      <td>59.105976</td>\n",
       "      <td>59.416440</td>\n",
       "      <td>26.189778</td>\n",
       "      <td>0.0</td>\n",
       "    </tr>\n",
       "    <tr>\n",
       "      <th>2</th>\n",
       "      <td>Latin America &amp; Caribbean</td>\n",
       "      <td>17</td>\n",
       "      <td>5</td>\n",
       "      <td>0</td>\n",
       "      <td>19</td>\n",
       "      <td>11.000448</td>\n",
       "      <td>22.822799</td>\n",
       "      <td>25.695980</td>\n",
       "      <td>24.625499</td>\n",
       "      <td>25.615352</td>\n",
       "      <td>...</td>\n",
       "      <td>66.022134</td>\n",
       "      <td>69.469284</td>\n",
       "      <td>66.197301</td>\n",
       "      <td>56.061764</td>\n",
       "      <td>58.506926</td>\n",
       "      <td>57.152793</td>\n",
       "      <td>59.034007</td>\n",
       "      <td>51.748760</td>\n",
       "      <td>43.199376</td>\n",
       "      <td>0.0</td>\n",
       "    </tr>\n",
       "  </tbody>\n",
       "</table>\n",
       "<p>3 rows × 57 columns</p>\n",
       "</div>"
      ],
      "text/plain": [
       "                      Region  High income  Upper middle income  \\\n",
       "0        East Asia & Pacific           13                   14   \n",
       "1      Europe & Central Asia           38                    4   \n",
       "2  Latin America & Caribbean           17                    5   \n",
       "\n",
       "   Lower middle income  Low income       1970       1971       1972  \\\n",
       "0                    1           9   8.203736  11.297164  18.680054   \n",
       "1                    0          16   2.497487  17.053915  18.992525   \n",
       "2                    0          19  11.000448  22.822799  25.695980   \n",
       "\n",
       "        1973       1974  ...       2012       2013       2014       2015  \\\n",
       "0  16.662033  17.530675  ...  61.921667  64.750360  68.270756  58.357257   \n",
       "1  19.457704  16.015816  ...  57.472287  55.248647  61.937363  62.663581   \n",
       "2  24.625499  25.615352  ...  66.022134  69.469284  66.197301  56.061764   \n",
       "\n",
       "        2016       2017       2018       2019       2020  2021  \n",
       "0  64.494314  60.348564  63.279995  68.576365  38.519324   0.0  \n",
       "1  65.485352  63.846852  59.105976  59.416440  26.189778   0.0  \n",
       "2  58.506926  57.152793  59.034007  51.748760  43.199376   0.0  \n",
       "\n",
       "[3 rows x 57 columns]"
      ]
     },
     "execution_count": 18,
     "metadata": {},
     "output_type": "execute_result"
    }
   ],
   "source": [
    "# Adicionando fatores de renda\n",
    "qtd_renda_m = []\n",
    "qtd_renda_h = []\n",
    "\n",
    "for faixa in renda:\n",
    "    renda_particular_m = []\n",
    "    renda_particular_h = []\n",
    "    \n",
    "    for region in regioes:\n",
    "        filtro_feminino = mulheres.loc[(mulheres['Region']==region)&(mulheres['IncomeGroup']==faixa),:]\n",
    "        filtro_masculino = homens.loc[(homens['Region']==region)&(homens['IncomeGroup']==faixa),:]\n",
    "        renda_particular_m.append(len(filtro_feminino)) \n",
    "        renda_particular_h.append(len(filtro_masculino))\n",
    "    qtd_renda_m.append(renda_particular_m)\n",
    "    qtd_renda_h.append(renda_particular_h)\n",
    "\n",
    "j = 1\n",
    "k = 0\n",
    "\n",
    "for i in range(4):\n",
    "    df_mulheres.insert(j, renda[k], qtd_renda_m[i], True)\n",
    "    df_homens.insert(j, renda[k], qtd_renda_h[i], True)\n",
    "    k+=1\n",
    "    j+=1\n",
    "        \n",
    "df_homens.head(3)"
   ]
  },
  {
   "cell_type": "markdown",
   "id": "decd9a40",
   "metadata": {},
   "source": [
    "Por essa restrição, permance-se sendo avaliada os seguintes pontos:\n",
    "- Region: região que abrange o país\n",
    "- Anos de 1970 a 2021: média da razão entre novos alunos matriculados na última classe do primário com os demais alunos de todos os países na região.\n",
    "- High income: quantidade de países considerados de classe alta na região\n",
    "- Upper middle income: quantidade de países considerados de classe média-alta na região\n",
    "- Lower middle income: quantidade de países considerados de classe média-baixa na região\n",
    "- Low income: quantidade de países considerados de classe baixa na região"
   ]
  },
  {
   "cell_type": "markdown",
   "id": "427901f0",
   "metadata": {},
   "source": [
    "#### Análise gráfica dos índices educacionais"
   ]
  },
  {
   "cell_type": "markdown",
   "id": "d5f7e890",
   "metadata": {},
   "source": [
    "Primeiramente, para a região americana"
   ]
  },
  {
   "cell_type": "code",
   "execution_count": 43,
   "id": "35c0dd6c",
   "metadata": {},
   "outputs": [],
   "source": [
    "america_feminina = df_mulheres.loc[df_mulheres['Region']=='Latin America & Caribbean',:]\n",
    "america_masculina = df_homens.loc[df_homens['Region']=='Latin America & Caribbean',:]"
   ]
  },
  {
   "cell_type": "code",
   "execution_count": 44,
   "id": "15b2a77c",
   "metadata": {},
   "outputs": [],
   "source": [
    "eixo_x = anos\n",
    "eixo_y_mulheres = []\n",
    "eixo_y_homens = []\n",
    "\n",
    "for ano in anos:\n",
    "    eixo_y_mulheres.append(america_feminina[ano])\n",
    "    eixo_y_homens.append(america_masculina[ano])"
   ]
  },
  {
   "cell_type": "code",
   "execution_count": 46,
   "id": "886a7e59",
   "metadata": {},
   "outputs": [
    {
     "data": {
      "text/plain": [
       "<matplotlib.collections.PathCollection at 0x22fb556ca30>"
      ]
     },
     "execution_count": 46,
     "metadata": {},
     "output_type": "execute_result"
    },
    {
     "data": {
      "image/png": "[encoded data removed]",
      "text/plain": [
       "<Figure size 432x288 with 1 Axes>"
      ]
     },
     "metadata": {
      "needs_background": "light"
     },
     "output_type": "display_data"
    }
   ],
   "source": [
    "plt.scatter(eixo_x, eixo_y_homens)\n",
    "plt.scatter(eixo_x, eixo_y_mulheres)"
   ]
  },
  {
   "cell_type": "code",
   "execution_count": null,
   "id": "f15a56a5",
   "metadata": {},
   "outputs": [],
   "source": []
  }
 ],
 "metadata": {
  "kernelspec": {
   "display_name": "Python 3 (ipykernel)",
   "language": "python",
   "name": "python3"
  },
  "language_info": {
   "codemirror_mode": {
    "name": "ipython",
    "version": 3
   },
   "file_extension": ".py",
   "mimetype": "text/x-python",
   "name": "python",
   "nbconvert_exporter": "python",
   "pygments_lexer": "ipython3",
   "version": "3.9.7"
  },
  "vscode": {
   "interpreter": {
    "hash": "5955e272ebc41e156d8df5baeb3d309dc4c14ea51626adce44f62666dda62cf4"
   }
  }
 },
 "nbformat": 4,
 "nbformat_minor": 5
}
